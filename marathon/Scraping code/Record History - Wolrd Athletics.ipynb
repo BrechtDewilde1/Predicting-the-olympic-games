{
 "cells": [
  {
   "cell_type": "markdown",
   "metadata": {},
   "source": [
    "**Library import**"
   ]
  },
  {
   "cell_type": "code",
   "execution_count": 1,
   "metadata": {},
   "outputs": [],
   "source": [
    "from bs4 import BeautifulSoup\n",
    "import requests\n",
    "import pandas as pd\n",
    "import re"
   ]
  },
  {
   "cell_type": "markdown",
   "metadata": {},
   "source": [
    "**Obtain list with links of the sites to scrape**"
   ]
  },
  {
   "cell_type": "code",
   "execution_count": 2,
   "metadata": {},
   "outputs": [],
   "source": [
    "# dataset location\n",
    "male_path = r\"C:\\Users\\BrechtDewilde\\Documents\\Github\\Predicting-the-olympic-games\\marathon\\Data c&c\\R\\Data\\marathonM.csv\"\n",
    "female_path = r\"C:\\Users\\BrechtDewilde\\Documents\\Github\\Predicting-the-olympic-games\\marathon\\Data c&c\\R\\Data\\marathonF.csv\""
   ]
  },
  {
   "cell_type": "code",
   "execution_count": 6,
   "metadata": {},
   "outputs": [],
   "source": [
    "# Male dataset creation\n",
    "mlink = \"https://www.worldathletics.org/athletes/search?query={}&countryCode={}&disciplineCode=&gender=male&environment=\"\n",
    "males = pd.read_csv(male_path, index_col = 0)\n",
    "males = males.drop(\"NOC\", axis = 1)\n",
    "males = males.drop_duplicates()"
   ]
  },
  {
   "cell_type": "code",
   "execution_count": 8,
   "metadata": {},
   "outputs": [],
   "source": [
    "# Female link generation\n",
    "flink = \"https://www.worldathletics.org/athletes/search?query={}&countryCode={}&disciplineCode=&gender=female&environment=\"\n",
    "females = pd.read_csv(female_path, index_col = 0)\n",
    "females = females.drop_duplicates()\n",
    "females = females.drop(\"NOC\", axis = 1)"
   ]
  },
  {
   "cell_type": "markdown",
   "metadata": {},
   "source": [
    "**Obtain sites country codes**"
   ]
  },
  {
   "cell_type": "code",
   "execution_count": 20,
   "metadata": {},
   "outputs": [],
   "source": [
    "link = \"https://www.worldathletics.org/athletes/search?query=Michael%2BShelley&countryCode=&disciplineCode=&gender=&environment=\"\n",
    "site = requests.get(link).content\n",
    "soup = BeautifulSoup(site, \"html.parser\")\n",
    "countries = soup.find(\"select\", {\"name\":\"countryCode\"}).find_all(\"option\")\n",
    "\n",
    "nationalities = []\n",
    "labels = []\n",
    "for label in countries:\n",
    "    labels.append(label.attrs[\"value\"])\n",
    "    nationalities.append(label.text)\n",
    "\n",
    "label_males = []\n",
    "label_females = []\n",
    "for i in males[\"Nationality\"]:\n",
    "    if i in nationalities:\n",
    "        label_males.append(labels[nationalities.index(i)])\n",
    "    else:\n",
    "        label_males.append(\"\")\n",
    "\n",
    "for i in females[\"Nationality\"]:\n",
    "    if i in nationalities:\n",
    "        label_females.append(labels[nationalities.index(i)])\n",
    "    else:\n",
    "        label_females.append(\"\")      "
   ]
  },
  {
   "cell_type": "markdown",
   "metadata": {},
   "source": [
    "**Add QueryName and QueryLabel to dataframes**"
   ]
  },
  {
   "cell_type": "code",
   "execution_count": 21,
   "metadata": {},
   "outputs": [
    {
     "name": "stderr",
     "output_type": "stream",
     "text": [
      "C:\\Program Files (x86)\\Anaconda3\\lib\\site-packages\\ipykernel_launcher.py:3: SettingWithCopyWarning: \n",
      "A value is trying to be set on a copy of a slice from a DataFrame.\n",
      "Try using .loc[row_indexer,col_indexer] = value instead\n",
      "\n",
      "See the caveats in the documentation: http://pandas.pydata.org/pandas-docs/stable/indexing.html#indexing-view-versus-copy\n",
      "  This is separate from the ipykernel package so we can avoid doing imports until\n",
      "C:\\Program Files (x86)\\Anaconda3\\lib\\site-packages\\ipykernel_launcher.py:4: SettingWithCopyWarning: \n",
      "A value is trying to be set on a copy of a slice from a DataFrame.\n",
      "Try using .loc[row_indexer,col_indexer] = value instead\n",
      "\n",
      "See the caveats in the documentation: http://pandas.pydata.org/pandas-docs/stable/indexing.html#indexing-view-versus-copy\n",
      "  after removing the cwd from sys.path.\n"
     ]
    }
   ],
   "source": [
    "males[\"QueryName\"] = [\"+\".join(i.split()) for i in males[\"Name\"]]\n",
    "males[\"QueryLabel\"] = label_males\n",
    "females[\"QueryName\"] = [\"+\".join(i.split()) for i in females[\"Name\"]]\n",
    "females[\"QueryLabel\"] = label_females"
   ]
  },
  {
   "cell_type": "markdown",
   "metadata": {},
   "source": [
    "**Obtain search links**"
   ]
  },
  {
   "cell_type": "code",
   "execution_count": 23,
   "metadata": {},
   "outputs": [],
   "source": [
    "mlinks = [mlink.format(list(males[\"QueryName\"])[i], list(males[\"QueryLabel\"])[i]) for i in range(males.shape[0])]\n",
    "flinks = [flink.format(list(females[\"QueryName\"])[i], list(females[\"QueryLabel\"])[i]) for i in range(females.shape[0])]"
   ]
  },
  {
   "cell_type": "markdown",
   "metadata": {},
   "source": [
    "**Obtain the link to each profile athletes page**"
   ]
  },
  {
   "cell_type": "code",
   "execution_count": 32,
   "metadata": {},
   "outputs": [],
   "source": [
    "male_profiles = []\n",
    "female_profiles = []\n",
    "mnone_profiles = []\n",
    "fnone_profiles = []\n",
    "blink = \"https://www.worldathletics.org/athletes/\"\n",
    "for link in mlinks:\n",
    "    site = requests.get(link).content\n",
    "    soup = BeautifulSoup(site, \"html.parser\")\n",
    "    try:\n",
    "        male_profiles.append(blink + soup.find(\"table\", {\"class\": \"records-table\"}).find(\"a\").attrs[\"href\"])\n",
    "    except:\n",
    "        male_profiles.append(\"null\")\n",
    "        mnone_profiles.append(link)\n",
    "    \n",
    "for link in flinks:\n",
    "    site = requests.get(link).content\n",
    "    soup = BeautifulSoup(site, \"html.parser\")\n",
    "    try:\n",
    "        female_profiles.append(blink + soup.find(\"table\", {\"class\": \"records-table\"}).find(\"a\").attrs[\"href\"])\n",
    "    except:\n",
    "        female_profiles.append(\"null\")\n",
    "        fnone_profiles.append(link)\n",
    "\n",
    "female_profiles_backup = female_profiles\n",
    "male_profiles_backup = male_profiles"
   ]
  },
  {
   "cell_type": "markdown",
   "metadata": {},
   "source": [
    "Add manually the links of the non profile sites"
   ]
  },
  {
   "cell_type": "code",
   "execution_count": 40,
   "metadata": {},
   "outputs": [],
   "source": [
    "missingM_links = [\"https://www.worldathletics.org/athletes/azerbaijan/evans-kiplagat-250644\", \n",
    "\"https://www.worldathletics.org/athletes/burundi/tharcisse-gashaka-014177810\",\n",
    "\"https://www.worldathletics.org/athletes/burundi/joachim-nshimirimana-180569\",\n",
    "\"https://www.worldathletics.org/athletes/cambodia/kuniaki-takizaki-313331\",\n",
    "\"https://www.worldathletics.org/athletes/central-african-republic/ferdinand-amadi-014432563\",\n",
    "\"https://www.worldathletics.org/athletes/indonesia/ethel-hudson-11986\",\n",
    "\"https://www.worldathletics.org/athletes/israel/zohar-zimro-258676\",\n",
    "\"https://www.worldathletics.org/athletes/lesotho/gabashane-rakabaele-014354671\",\n",
    "\"https://www.worldathletics.org/athletes/malawi/george-mambosasa-014430255\",\n",
    "\"https://www.worldathletics.org/athletes/namibia/mynhardt-mbeumuna-kawanivi-280028\",\n",
    "\"https://www.worldathletics.org/athletes/nepal/baikuntha-manandhar-6434\",\n",
    "\"https://www.worldathletics.org/athletes/rwanda/telesphore-dusabe-014432534\",\n",
    "\"https://www.worldathletics.org/athletes/rwanda/mathias-ntawulikura-2084\",\n",
    "\"https://www.worldathletics.org/athletes/zambia/trev-haynes-014552623\",\n",
    "\"https://www.worldathletics.org/athletes/zimbabwe/cutbert-nyasango-180114\"]\n",
    "\n",
    "m_indices = [i for i, x in enumerate(male_profiles) if x == \"null\"]\n",
    "missingF_links = [\"https://www.worldathletics.org/athletes/germany/luminita-zaituc-66785\", \"https://www.worldathletics.org/athletes/honduras/gina-coello-60331\", \"https://www.worldathletics.org/athletes/lesotho/mamorallo-tjoka-184788\", \"https://www.worldathletics.org/athletes/madagascar/clarisse-rasoarizay-76065\", \"https://www.worldathletics.org/athletes/malawi/tereza-master-200505\", \"https://www.worldathletics.org/athletes/namibia/beata-naigambo-138596\", \"https://www.worldathletics.org/athletes/rwanda/claudette-mukasakindi-233268\"]\n",
    "f_indices = [i for i, x in enumerate(female_profiles) if x == \"null\"]"
   ]
  },
  {
   "cell_type": "code",
   "execution_count": 41,
   "metadata": {},
   "outputs": [],
   "source": [
    "for index, profile in zip(m_indices, missingM_links):\n",
    "    male_profiles[index] = profile\n",
    "\n",
    "for index, profile in zip(f_indices, missingF_links):\n",
    "    female_profiles[index] = profile"
   ]
  },
  {
   "cell_type": "markdown",
   "metadata": {},
   "source": [
    "**Scrape the progression page of each profile**"
   ]
  },
  {
   "cell_type": "markdown",
   "metadata": {},
   "source": [
    "Males"
   ]
  },
  {
   "cell_type": "code",
   "execution_count": 147,
   "metadata": {},
   "outputs": [],
   "source": [
    "athlete = []\n",
    "year = []\n",
    "performance = []\n",
    "place = []\n",
    "date = []\n",
    "for name, link in zip(males[\"Name\"], male_profiles):\n",
    "    # does the link contain a //athletes remove this\n",
    "    if \"athletes//\" in link:\n",
    "        link = link.replace(\"athletes//\", \"\")\n",
    "        \n",
    "    site = requests.get(link).content\n",
    "    soup = BeautifulSoup(site, \"html.parser\")\n",
    "    \n",
    "    counter = 0\n",
    "    for i in soup.find_all(\"div\", {\"class\":\"row table-header\"}):\n",
    "        if \"Marathon\" in i.text and \"Half\" not in i.text:\n",
    "            table = i.parent.find(\"table\", {\"class\":\"records-table\"})\n",
    "            for y in table.find_all(\"td\", {\"data-th\":\" \"}):\n",
    "                year.append(y.text.strip())\n",
    "                counter += 1\n",
    "            for p in table.find_all(\"td\", {\"data-th\":\"Performance\"}):\n",
    "                performance.append(p.text.strip())\n",
    "            for pl in table.find_all(\"td\", {\"data-th\":\"Place\"}):\n",
    "                place.append(pl.text.strip())\n",
    "            for d in table.find_all(\"td\", {\"data-th\":\"Date\"}):\n",
    "                date.append(d.text.strip())\n",
    "            athlete.extend([name for n in range(counter)])\n",
    "            break"
   ]
  },
  {
   "cell_type": "code",
   "execution_count": 148,
   "metadata": {},
   "outputs": [],
   "source": [
    "df = pd.DataFrame({\"athlete\": athlete, \"year\": year, \"performance\": performance, \"place\":place, \"date\":date})\n",
    "df.to_csv(r\"C:\\Users\\BrechtDewilde\\Documents\\Github\\Predicting-the-olympic-games\\marathon\\Data c&c\\R\\Data\\record history\\male_records.csv\", index = False)"
   ]
  },
  {
   "cell_type": "markdown",
   "metadata": {},
   "source": [
    "Females"
   ]
  },
  {
   "cell_type": "code",
   "execution_count": 144,
   "metadata": {},
   "outputs": [
    {
     "name": "stdout",
     "output_type": "stream",
     "text": [
      "athlete https://www.worldathletics.org/athletes/athlete=115604, year 8, perf 8, place 8, date 8\n",
      "athlete https://www.worldathletics.org/athletes/athlete=115602, year 13, perf 13, place 13, date 13\n",
      "athlete https://www.worldathletics.org/athletes/athlete=115424, year 18, perf 18, place 18, date 18\n",
      "athlete https://www.worldathletics.org/athletes/athlete=221143, year 24, perf 24, place 24, date 24\n",
      "athlete https://www.worldathletics.org/athletes/athlete=80551, year 34, perf 34, place 34, date 34\n",
      "athlete https://www.worldathletics.org/athletes/athlete=200601, year 40, perf 40, place 40, date 40\n",
      "athlete https://www.worldathletics.org/athletes/athlete=258886, year 47, perf 47, place 47, date 47\n",
      "athlete https://www.worldathletics.org/athletes/athlete=194565, year 58, perf 58, place 58, date 58\n",
      "athlete https://www.worldathletics.org/athletes/athlete=60762, year 63, perf 63, place 63, date 63\n",
      "athlete https://www.worldathletics.org/athletes/athlete=195490, year 73, perf 73, place 73, date 73\n",
      "athlete https://www.worldathletics.org/athletes/athlete=185352, year 79, perf 79, place 79, date 79\n",
      "athlete https://www.worldathletics.org/athletes/athlete=171451, year 85, perf 85, place 85, date 85\n",
      "athlete https://www.worldathletics.org/athletes/athlete=254845, year 92, perf 92, place 92, date 92\n",
      "athlete https://www.worldathletics.org/athletes/athlete=276944, year 98, perf 98, place 98, date 98\n",
      "athlete https://www.worldathletics.org/athletes/athlete=70079, year 100, perf 100, place 100, date 100\n",
      "athlete https://www.worldathletics.org/athletes/athlete=65680, year 110, perf 110, place 110, date 110\n",
      "athlete https://www.worldathletics.org/athletes/athlete=304542, year 114, perf 114, place 114, date 114\n",
      "athlete https://www.worldathletics.org/athletes/athlete=221717, year 118, perf 118, place 118, date 118\n",
      "athlete https://www.worldathletics.org/athletes/athlete=75006, year 120, perf 120, place 120, date 120\n",
      "athlete https://www.worldathletics.org/athletes/athlete=70123, year 122, perf 122, place 122, date 122\n",
      "athlete https://www.worldathletics.org/athletes/brazil/eleonora-de-mendonca-014445192, year 123, perf 123, place 123, date 123\n",
      "athlete https://www.worldathletics.org/athletes/athlete=132887, year 134, perf 134, place 134, date 134\n",
      "athlete https://www.worldathletics.org/athletes/athlete=177288, year 145, perf 145, place 145, date 145\n",
      "athlete https://www.worldathletics.org/athletes/athlete=275444, year 151, perf 151, place 151, date 151\n",
      "athlete https://www.worldathletics.org/athletes/athlete=280045, year 153, perf 153, place 153, date 153\n",
      "athlete https://www.worldathletics.org/athletes/athlete=260214, year 157, perf 157, place 157, date 157\n",
      "athlete https://www.worldathletics.org/athletes/athlete=272197, year 163, perf 163, place 163, date 163\n",
      "athlete https://www.worldathletics.org/athletes/athlete=65880, year 169, perf 169, place 169, date 169\n",
      "athlete https://www.worldathletics.org/athletes/athlete=65979, year 171, perf 171, place 171, date 171\n",
      "athlete https://www.worldathletics.org/athletes/athlete=257044, year 180, perf 180, place 180, date 180\n",
      "athlete https://www.worldathletics.org/athletes/chile/erika-alejandra-de-la-fuente-014269220, year 185, perf 185, place 185, date 185\n",
      "athlete https://www.worldathletics.org/athletes/athlete=263157, year 195, perf 195, place 195, date 195\n",
      "athlete https://www.worldathletics.org/athletes/athlete=110045, year 202, perf 202, place 202, date 202\n",
      "athlete https://www.worldathletics.org/athletes/pr-of-china/juan-li-014266024, year 208, perf 208, place 208, date 208\n",
      "athlete https://www.worldathletics.org/athletes/athlete=240787, year 217, perf 217, place 217, date 217\n",
      "athlete https://www.worldathletics.org/athletes/athlete=189185, year 228, perf 228, place 228, date 228\n",
      "athlete https://www.worldathletics.org/athletes/athlete=265272, year 232, perf 232, place 232, date 232\n",
      "athlete https://www.worldathletics.org/athletes/athlete=62138, year 236, perf 236, place 236, date 236\n",
      "athlete https://www.worldathletics.org/athletes/athlete=173526, year 250, perf 250, place 250, date 250\n",
      "athlete https://www.worldathletics.org/athletes/athlete=62141, year 253, perf 253, place 253, date 253\n",
      "athlete https://www.worldathletics.org/athletes/athlete=176628, year 259, perf 259, place 259, date 259\n",
      "athlete https://www.worldathletics.org/athletes/athlete=224818, year 268, perf 268, place 268, date 268\n",
      "athlete https://www.worldathletics.org/athletes/athlete=176579, year 278, perf 278, place 278, date 278\n",
      "athlete https://www.worldathletics.org/athletes/athlete=238169, year 286, perf 286, place 286, date 286\n",
      "athlete https://www.worldathletics.org/athletes/athlete=298550, year 292, perf 292, place 292, date 292\n",
      "athlete https://www.worldathletics.org/athletes/athlete=136311, year 302, perf 302, place 302, date 302\n",
      "athlete https://www.worldathletics.org/athletes/athlete=226259, year 306, perf 306, place 306, date 306\n",
      "athlete https://www.worldathletics.org/athletes/athlete=211185, year 314, perf 314, place 314, date 314\n",
      "athlete https://www.worldathletics.org/athletes/athlete=61631, year 325, perf 325, place 325, date 325\n",
      "athlete https://www.worldathletics.org/athletes/athlete=115058, year 328, perf 328, place 328, date 328\n",
      "athlete https://www.worldathletics.org/athletes/athlete=181830, year 332, perf 332, place 332, date 332\n",
      "athlete https://www.worldathletics.org/athletes/athlete=243765, year 341, perf 341, place 341, date 341\n",
      "athlete https://www.worldathletics.org/athletes/athlete=64899, year 348, perf 348, place 348, date 348\n",
      "athlete https://www.worldathletics.org/athletes/athlete=295531, year 353, perf 353, place 353, date 353\n",
      "athlete https://www.worldathletics.org/athletes/athlete=271271, year 358, perf 358, place 358, date 358\n",
      "athlete https://www.worldathletics.org/athletes/athlete=271350, year 365, perf 365, place 365, date 365\n",
      "athlete https://www.worldathletics.org/athletes/athlete=70406, year 375, perf 375, place 375, date 375\n",
      "athlete https://www.worldathletics.org/athletes/athlete=246907, year 384, perf 384, place 384, date 384\n",
      "athlete https://www.worldathletics.org/athletes/athlete=130337, year 396, perf 396, place 396, date 396\n",
      "athlete https://www.worldathletics.org/athletes/athlete=195493, year 403, perf 403, place 403, date 403\n",
      "athlete https://www.worldathletics.org/athletes/athlete=130336, year 410, perf 410, place 410, date 410\n",
      "athlete https://www.worldathletics.org/athletes/athlete=231024, year 417, perf 417, place 417, date 417\n",
      "athlete https://www.worldathletics.org/athletes/athlete=234931, year 424, perf 424, place 424, date 424\n",
      "athlete https://www.worldathletics.org/athletes/athlete=240864, year 433, perf 433, place 433, date 433\n",
      "athlete https://www.worldathletics.org/athletes/athlete=60918, year 441, perf 441, place 441, date 441\n",
      "athlete https://www.worldathletics.org/athletes/athlete=259475, year 446, perf 446, place 446, date 446\n",
      "athlete https://www.worldathletics.org/athletes/athlete=195725, year 455, perf 455, place 455, date 455\n",
      "athlete https://www.worldathletics.org/athletes/athlete=61997, year 461, perf 461, place 461, date 461\n",
      "athlete https://www.worldathletics.org/athletes/athlete=195813, year 463, perf 463, place 463, date 463\n",
      "athlete https://www.worldathletics.org/athletes/athlete=299113, year 470, perf 470, place 470, date 470\n",
      "athlete https://www.worldathletics.org/athletes/athlete=115374, year 478, perf 478, place 478, date 478\n",
      "athlete https://www.worldathletics.org/athletes/athlete=271842, year 485, perf 485, place 485, date 485\n",
      "athlete https://www.worldathletics.org/athletes/athlete=137579, year 493, perf 493, place 493, date 493\n",
      "athlete https://www.worldathletics.org/athletes/athlete=271843, year 497, perf 497, place 497, date 497\n",
      "athlete https://www.worldathletics.org/athletes/athlete=227721, year 503, perf 503, place 503, date 503\n",
      "athlete https://www.worldathletics.org/athletes/germany/luminita-zaituc-66785, year 512, perf 512, place 512, date 512\n",
      "athlete https://www.worldathletics.org/athletes/athlete=268453, year 517, perf 517, place 517, date 517\n",
      "athlete https://www.worldathletics.org/athletes/athlete=130274, year 525, perf 525, place 525, date 525\n",
      "athlete https://www.worldathletics.org/athletes/honduras/gina-coello-60331, year 531, perf 531, place 531, date 531\n"
     ]
    },
    {
     "name": "stdout",
     "output_type": "stream",
     "text": [
      "athlete https://www.worldathletics.org/athletes/athlete=179866, year 533, perf 533, place 533, date 533\n",
      "athlete https://www.worldathletics.org/athletes/athlete=115764, year 539, perf 539, place 539, date 539\n",
      "athlete https://www.worldathletics.org/athletes/athlete=61790, year 559, perf 559, place 559, date 559\n",
      "athlete https://www.worldathletics.org/athletes/athlete=223876, year 560, perf 560, place 560, date 560\n",
      "athlete https://www.worldathletics.org/athletes/athlete=272230, year 571, perf 571, place 571, date 571\n",
      "athlete https://www.worldathletics.org/athletes/athlete=188325, year 573, perf 573, place 573, date 573\n",
      "athlete https://www.worldathletics.org/athletes/athlete=250664, year 579, perf 579, place 579, date 579\n",
      "athlete https://www.worldathletics.org/athletes/ireland/marie-murphy-rollins-014429581, year 581, perf 581, place 581, date 581\n",
      "athlete https://www.worldathletics.org/athletes/athlete=181744, year 583, perf 583, place 583, date 583\n",
      "athlete https://www.worldathletics.org/athletes/ireland/ailish-smyth-014429575, year 585, perf 585, place 585, date 585\n",
      "athlete https://www.worldathletics.org/athletes/athlete=206673, year 587, perf 587, place 587, date 587\n",
      "athlete https://www.worldathletics.org/athletes/athlete=132843, year 599, perf 599, place 599, date 599\n",
      "athlete https://www.worldathletics.org/athletes/athlete=60374, year 606, perf 606, place 606, date 606\n",
      "athlete https://www.worldathletics.org/athletes/athlete=132845, year 608, perf 608, place 608, date 608\n",
      "athlete https://www.worldathletics.org/athletes/athlete=250952, year 616, perf 616, place 616, date 616\n",
      "athlete https://www.worldathletics.org/athletes/athlete=110040, year 623, perf 623, place 623, date 623\n",
      "athlete https://www.worldathletics.org/athletes/athlete=68459, year 637, perf 637, place 637, date 637\n",
      "athlete https://www.worldathletics.org/athletes/athlete=230854, year 651, perf 651, place 651, date 651\n",
      "athlete https://www.worldathletics.org/athletes/athlete=138237, year 661, perf 661, place 661, date 661\n",
      "athlete https://www.worldathletics.org/athletes/athlete=63988, year 673, perf 673, place 673, date 673\n",
      "athlete https://www.worldathletics.org/athletes/athlete=115254, year 681, perf 681, place 681, date 681\n",
      "athlete https://www.worldathletics.org/athletes/athlete=60168, year 689, perf 689, place 689, date 689\n",
      "athlete https://www.worldathletics.org/athletes/athlete=194067, year 691, perf 691, place 691, date 691\n",
      "athlete https://www.worldathletics.org/athletes/athlete=240981, year 695, perf 695, place 695, date 695\n",
      "athlete https://www.worldathletics.org/athletes/athlete=139333, year 703, perf 703, place 703, date 703\n",
      "athlete https://www.worldathletics.org/athletes/athlete=182384, year 711, perf 711, place 711, date 711\n",
      "athlete https://www.worldathletics.org/athletes/athlete=136434, year 719, perf 719, place 719, date 719\n",
      "athlete https://www.worldathletics.org/athletes/athlete=220325, year 726, perf 726, place 726, date 726\n",
      "athlete https://www.worldathletics.org/athletes/athlete=211319, year 732, perf 732, place 732, date 732\n",
      "athlete https://www.worldathletics.org/athletes/athlete=186636, year 738, perf 738, place 738, date 738\n",
      "athlete https://www.worldathletics.org/athletes/athlete=115555, year 748, perf 748, place 748, date 748\n",
      "athlete https://www.worldathletics.org/athletes/athlete=171951, year 757, perf 757, place 757, date 757\n",
      "athlete https://www.worldathletics.org/athletes/athlete=60078, year 773, perf 773, place 773, date 773\n",
      "athlete https://www.worldathletics.org/athletes/athlete=60020, year 778, perf 778, place 778, date 778\n",
      "athlete https://www.worldathletics.org/athletes/athlete=179923, year 786, perf 786, place 786, date 786\n",
      "athlete https://www.worldathletics.org/athletes/athlete=204337, year 794, perf 794, place 794, date 794\n",
      "athlete https://www.worldathletics.org/athletes/athlete=115327, year 801, perf 801, place 801, date 801\n",
      "athlete https://www.worldathletics.org/athletes/athlete=61267, year 806, perf 806, place 806, date 806\n",
      "athlete https://www.worldathletics.org/athletes/athlete=246306, year 810, perf 810, place 810, date 810\n",
      "athlete https://www.worldathletics.org/athletes/athlete=65001, year 814, perf 814, place 814, date 814\n",
      "athlete https://www.worldathletics.org/athletes/athlete=115480, year 825, perf 825, place 825, date 825\n",
      "athlete https://www.worldathletics.org/athletes/athlete=70953, year 829, perf 829, place 829, date 829\n",
      "athlete https://www.worldathletics.org/athletes/athlete=71530, year 840, perf 840, place 840, date 840\n",
      "athlete https://www.worldathletics.org/athletes/athlete=180543, year 850, perf 850, place 850, date 850\n",
      "athlete https://www.worldathletics.org/athletes/athlete=61121, year 863, perf 863, place 863, date 863\n",
      "athlete https://www.worldathletics.org/athletes/athlete=70936, year 874, perf 874, place 874, date 874\n",
      "athlete https://www.worldathletics.org/athletes/athlete=231010, year 883, perf 883, place 883, date 883\n",
      "athlete https://www.worldathletics.org/athletes/athlete=224362, year 891, perf 891, place 891, date 891\n",
      "athlete https://www.worldathletics.org/athletes/athlete=247754, year 899, perf 899, place 899, date 899\n",
      "athlete https://www.worldathletics.org/athletes/athlete=286827, year 905, perf 905, place 905, date 905\n",
      "athlete https://www.worldathletics.org/athletes/athlete=304315, year 912, perf 912, place 912, date 912\n",
      "athlete https://www.worldathletics.org/athletes/athlete=242475, year 917, perf 917, place 917, date 917\n",
      "athlete https://www.worldathletics.org/athletes/athlete=76042, year 920, perf 920, place 920, date 920\n",
      "athlete https://www.worldathletics.org/athletes/athlete=272229, year 926, perf 926, place 926, date 926\n",
      "athlete https://www.worldathletics.org/athletes/athlete=268655, year 928, perf 928, place 928, date 928\n",
      "athlete https://www.worldathletics.org/athletes/athlete=307080, year 936, perf 936, place 936, date 936\n",
      "athlete https://www.worldathletics.org/athletes/athlete=197887, year 938, perf 938, place 938, date 938\n",
      "athlete https://www.worldathletics.org/athletes/lesotho/mamorallo-tjoka-184788, year 948, perf 948, place 948, date 948\n",
      "athlete https://www.worldathletics.org/athletes/madagascar/clarisse-rasoarizay-76065, year 954, perf 954, place 954, date 954\n",
      "athlete https://www.worldathletics.org/athletes/malawi/tereza-master-200505, year 956, perf 956, place 956, date 956\n",
      "athlete https://www.worldathletics.org/athletes/athlete=64188, year 957, perf 957, place 957, date 957\n",
      "athlete https://www.worldathletics.org/athletes/athlete=133128, year 963, perf 963, place 963, date 963\n",
      "athlete https://www.worldathletics.org/athletes/athlete=60849, year 965, perf 965, place 965, date 965\n",
      "athlete https://www.worldathletics.org/athletes/athlete=233224, year 972, perf 972, place 972, date 972\n",
      "athlete https://www.worldathletics.org/athletes/athlete=60441, year 975, perf 975, place 975, date 975\n",
      "athlete https://www.worldathletics.org/athletes/athlete=194400, year 978, perf 978, place 978, date 978\n",
      "athlete https://www.worldathletics.org/athletes/athlete=186998, year 984, perf 984, place 984, date 984\n",
      "athlete https://www.worldathletics.org/athletes/athlete=271928, year 989, perf 989, place 989, date 989\n",
      "athlete https://www.worldathletics.org/athletes/athlete=205894, year 1001, perf 1001, place 1001, date 1001\n",
      "athlete https://www.worldathletics.org/athletes/namibia/beata-naigambo-138596, year 1016, perf 1016, place 1016, date 1016\n",
      "athlete https://www.worldathletics.org/athletes/athlete=279711, year 1020, perf 1020, place 1020, date 1020\n",
      "athlete https://www.worldathletics.org/athletes/athlete=64256, year 1021, perf 1021, place 1021, date 1021\n",
      "athlete https://www.worldathletics.org/athletes/athlete=19022, year 1027, perf 1027, place 1027, date 1027\n",
      "athlete https://www.worldathletics.org/athletes/athlete=225631, year 1036, perf 1036, place 1036, date 1036\n",
      "athlete https://www.worldathletics.org/athletes/athlete=200606, year 1039, perf 1039, place 1039, date 1039\n",
      "athlete https://www.worldathletics.org/athletes/athlete=200866, year 1051, perf 1051, place 1051, date 1051\n",
      "athlete https://www.worldathletics.org/athletes/athlete=66069, year 1063, perf 1063, place 1063, date 1063\n",
      "athlete https://www.worldathletics.org/athletes/athlete=60680, year 1073, perf 1073, place 1073, date 1073\n"
     ]
    },
    {
     "name": "stdout",
     "output_type": "stream",
     "text": [
      "athlete https://www.worldathletics.org/athletes/athlete=203411, year 1079, perf 1079, place 1079, date 1079\n",
      "athlete https://www.worldathletics.org/athletes/athlete=131219, year 1083, perf 1083, place 1083, date 1083\n",
      "athlete https://www.worldathletics.org/athletes/athlete=246176, year 1086, perf 1086, place 1086, date 1086\n",
      "athlete https://www.worldathletics.org/athletes/athlete=259297, year 1095, perf 1095, place 1095, date 1095\n",
      "athlete https://www.worldathletics.org/athletes/athlete=259298, year 1099, perf 1099, place 1099, date 1099\n",
      "athlete https://www.worldathletics.org/athletes/athlete=174994, year 1107, perf 1107, place 1107, date 1107\n",
      "athlete https://www.worldathletics.org/athletes/athlete=311814, year 1116, perf 1116, place 1116, date 1116\n",
      "athlete https://www.worldathletics.org/athletes/athlete=201703, year 1123, perf 1123, place 1123, date 1123\n",
      "athlete https://www.worldathletics.org/athletes/athlete=136302, year 1134, perf 1134, place 1134, date 1134\n",
      "athlete https://www.worldathletics.org/athletes/athlete=71127, year 1137, perf 1137, place 1137, date 1137\n",
      "athlete https://www.worldathletics.org/athletes/athlete=60436, year 1140, perf 1140, place 1140, date 1140\n",
      "athlete https://www.worldathletics.org/athletes/athlete=63270, year 1151, perf 1151, place 1151, date 1151\n",
      "athlete https://www.worldathletics.org/athletes/athlete=175105, year 1157, perf 1157, place 1157, date 1157\n",
      "athlete https://www.worldathletics.org/athletes/athlete=186875, year 1167, perf 1167, place 1167, date 1167\n",
      "athlete https://www.worldathletics.org/athletes/athlete=71156, year 1181, perf 1181, place 1181, date 1181\n",
      "athlete https://www.worldathletics.org/athletes/athlete=66786, year 1182, perf 1182, place 1182, date 1182\n",
      "athlete https://www.worldathletics.org/athletes/athlete=62994, year 1198, perf 1198, place 1198, date 1198\n",
      "athlete https://www.worldathletics.org/athletes/athlete=130247, year 1211, perf 1211, place 1211, date 1211\n",
      "athlete https://www.worldathletics.org/athletes/athlete=136087, year 1225, perf 1225, place 1225, date 1225\n",
      "athlete https://www.worldathletics.org/athletes/athlete=110305, year 1237, perf 1237, place 1237, date 1237\n",
      "athlete https://www.worldathletics.org/athletes/rwanda/claudette-mukasakindi-233268, year 1241, perf 1241, place 1241, date 1241\n",
      "athlete https://www.worldathletics.org/athletes/athlete=61315, year 1243, perf 1243, place 1243, date 1243\n",
      "athlete https://www.worldathletics.org/athletes/athlete=274897, year 1245, perf 1245, place 1245, date 1245\n",
      "athlete https://www.worldathletics.org/athletes/athlete=219413, year 1259, perf 1259, place 1259, date 1259\n",
      "athlete https://www.worldathletics.org/athletes/athlete=181762, year 1263, perf 1263, place 1263, date 1263\n",
      "athlete https://www.worldathletics.org/athletes/athlete=200815, year 1266, perf 1266, place 1266, date 1266\n",
      "athlete https://www.worldathletics.org/athletes/korea/mi-ok-lee-014429574, year 1270, perf 1270, place 1270, date 1270\n",
      "athlete https://www.worldathletics.org/athletes/athlete=60041, year 1280, perf 1280, place 1280, date 1280\n",
      "athlete https://www.worldathletics.org/athletes/athlete=264568, year 1283, perf 1283, place 1283, date 1283\n",
      "athlete https://www.worldathletics.org/athletes/athlete=115481, year 1291, perf 1291, place 1291, date 1291\n",
      "athlete https://www.worldathletics.org/athletes/athlete=76251, year 1297, perf 1297, place 1297, date 1297\n",
      "athlete https://www.worldathletics.org/athletes/athlete=194816, year 1300, perf 1300, place 1300, date 1300\n",
      "athlete https://www.worldathletics.org/athletes/athlete=189170, year 1305, perf 1305, place 1305, date 1305\n",
      "athlete https://www.worldathletics.org/athletes/athlete=115639, year 1308, perf 1308, place 1308, date 1308\n",
      "athlete https://www.worldathletics.org/athletes/athlete=63356, year 1313, perf 1313, place 1313, date 1313\n",
      "athlete https://www.worldathletics.org/athletes/athlete=241539, year 1323, perf 1323, place 1323, date 1323\n",
      "athlete https://www.worldathletics.org/athletes/athlete=65462, year 1327, perf 1327, place 1327, date 1327\n",
      "athlete https://www.worldathletics.org/athletes/athlete=179054, year 1339, perf 1339, place 1339, date 1339\n",
      "athlete https://www.worldathletics.org/athletes/athlete=61350, year 1341, perf 1341, place 1341, date 1341\n",
      "athlete https://www.worldathletics.org/athletes/athlete=278572, year 1347, perf 1347, place 1347, date 1347\n",
      "athlete https://www.worldathletics.org/athletes/athlete=307083, year 1351, perf 1351, place 1351, date 1351\n",
      "athlete https://www.worldathletics.org/athletes/athlete=179286, year 1353, perf 1353, place 1353, date 1353\n",
      "athlete https://www.worldathletics.org/athletes/athlete=188256, year 1356, perf 1356, place 1356, date 1356\n",
      "athlete https://www.worldathletics.org/athletes/athlete=219321, year 1362, perf 1362, place 1362, date 1362\n",
      "athlete https://www.worldathletics.org/athletes/athlete=258214, year 1364, perf 1364, place 1364, date 1364\n",
      "athlete https://www.worldathletics.org/athletes/athlete=201391, year 1367, perf 1367, place 1367, date 1367\n",
      "athlete https://www.worldathletics.org/athletes/athlete=197129, year 1375, perf 1375, place 1375, date 1375\n",
      "athlete https://www.worldathletics.org/athletes/athlete=186860, year 1378, perf 1378, place 1378, date 1378\n",
      "athlete https://www.worldathletics.org/athletes/athlete=248141, year 1381, perf 1381, place 1381, date 1381\n",
      "athlete https://www.worldathletics.org/athletes/athlete=245966, year 1390, perf 1390, place 1390, date 1390\n",
      "athlete https://www.worldathletics.org/athletes/athlete=115694, year 1397, perf 1397, place 1397, date 1397\n",
      "athlete https://www.worldathletics.org/athletes/athlete=62914, year 1403, perf 1403, place 1403, date 1403\n",
      "athlete https://www.worldathletics.org/athletes/athlete=61915, year 1405, perf 1405, place 1405, date 1405\n",
      "athlete https://www.worldathletics.org/athletes/athlete=70928, year 1412, perf 1412, place 1412, date 1412\n",
      "athlete https://www.worldathletics.org/athletes/athlete=63243, year 1415, perf 1415, place 1415, date 1415\n",
      "athlete https://www.worldathletics.org/athletes/athlete=110233, year 1419, perf 1419, place 1419, date 1419\n",
      "athlete https://www.worldathletics.org/athletes/athlete=133077, year 1423, perf 1423, place 1423, date 1423\n",
      "athlete https://www.worldathletics.org/athletes/athlete=174853, year 1429, perf 1429, place 1429, date 1429\n",
      "athlete https://www.worldathletics.org/athletes/athlete=175599, year 1433, perf 1433, place 1433, date 1433\n",
      "athlete https://www.worldathletics.org/athletes/athlete=175351, year 1437, perf 1437, place 1437, date 1437\n",
      "athlete https://www.worldathletics.org/athletes/athlete=211100, year 1444, perf 1444, place 1444, date 1444\n",
      "athlete https://www.worldathletics.org/athletes/athlete=238040, year 1454, perf 1454, place 1454, date 1454\n",
      "athlete https://www.worldathletics.org/athletes/athlete=272178, year 1466, perf 1466, place 1466, date 1466\n",
      "athlete https://www.worldathletics.org/athletes/athlete=250869, year 1474, perf 1474, place 1474, date 1474\n",
      "athlete https://www.worldathletics.org/athletes/athlete=308818, year 1477, perf 1477, place 1477, date 1477\n",
      "athlete https://www.worldathletics.org/athletes/athlete=138529, year 1492, perf 1492, place 1492, date 1492\n",
      "athlete https://www.worldathletics.org/athletes/zimbabwe/linda-hunter-014429580, year 1493, perf 1493, place 1493, date 1493\n"
     ]
    }
   ],
   "source": [
    "athlete = []\n",
    "year = []\n",
    "performance = []\n",
    "place = []\n",
    "date = []\n",
    "for name, link in zip(females[\"Name\"], female_profiles):\n",
    "    # does the link contain a //athletes remove this\n",
    "    if \"athletes//\" in link:\n",
    "        link = link.replace(\"athletes//\", \"\")\n",
    "        \n",
    "    site = requests.get(link).content\n",
    "    soup = BeautifulSoup(site, \"html.parser\")\n",
    "    \n",
    "    counter = 0\n",
    "    for i in soup.find_all(\"div\", {\"class\":\"row table-header\"}):\n",
    "        if \"Marathon\" in i.text and \"Half\" not in i.text:\n",
    "            table = i.parent.find(\"table\", {\"class\":\"records-table\"})\n",
    "            for y in table.find_all(\"td\", {\"data-th\":\" \"}):\n",
    "                year.append(y.text.strip())\n",
    "                counter += 1\n",
    "            for p in table.find_all(\"td\", {\"data-th\":\"Performance\"}):\n",
    "                performance.append(p.text.strip())\n",
    "            for pl in table.find_all(\"td\", {\"data-th\":\"Place\"}):\n",
    "                place.append(pl.text.strip())\n",
    "            for d in table.find_all(\"td\", {\"data-th\":\"Date\"}):\n",
    "                date.append(d.text.strip())\n",
    "            athlete.extend([name for n in range(counter)])\n",
    "            break"
   ]
  },
  {
   "cell_type": "code",
   "execution_count": 146,
   "metadata": {},
   "outputs": [],
   "source": [
    "df = pd.DataFrame({\"athlete\": athlete, \"year\": year, \"performance\": performance, \"place\":place, \"date\":date})\n",
    "df.to_csv(r\"C:\\Users\\BrechtDewilde\\Documents\\Github\\Predicting-the-olympic-games\\marathon\\Data c&c\\R\\Data\\record history\\female_records.csv\", index = False)"
   ]
  },
  {
   "cell_type": "code",
   "execution_count": null,
   "metadata": {},
   "outputs": [],
   "source": [
    "df = pd.DataFrame({\"Name\": col0 , \"Performance\": col1, \"Place\": col2, \"Date\": col3})\n",
    "df.to_csv(r\"C:\\Users\\BrechtDewilde\\Documents\\Github\\Predicting-the-olympic-games\\IDA code\\Marathon\\Data\\scraped\\world_athletics\\world_athletics.csv\", index = False)"
   ]
  }
 ],
 "metadata": {
  "kernelspec": {
   "display_name": "Python 3",
   "language": "python",
   "name": "python3"
  },
  "language_info": {
   "codemirror_mode": {
    "name": "ipython",
    "version": 3
   },
   "file_extension": ".py",
   "mimetype": "text/x-python",
   "name": "python",
   "nbconvert_exporter": "python",
   "pygments_lexer": "ipython3",
   "version": "3.7.3"
  }
 },
 "nbformat": 4,
 "nbformat_minor": 2
}
