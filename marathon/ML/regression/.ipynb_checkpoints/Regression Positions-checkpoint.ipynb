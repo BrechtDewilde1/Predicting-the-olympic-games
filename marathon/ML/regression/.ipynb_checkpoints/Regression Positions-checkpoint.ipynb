{
 "cells": [
  {
   "cell_type": "markdown",
   "metadata": {},
   "source": [
    "### Library import"
   ]
  },
  {
   "cell_type": "code",
   "execution_count": 1,
   "metadata": {},
   "outputs": [],
   "source": [
    "import pandas as pd\n",
    "import numpy as np\n",
    "import statistics\n",
    "import math\n",
    "from sklearn.pipeline import Pipeline, make_pipeline\n",
    "from sklearn.compose import ColumnTransformer\n",
    "from sklearn.preprocessing import MinMaxScaler, StandardScaler, Normalizer, Binarizer, PowerTransformer, RobustScaler\n",
    "from sklearn.preprocessing import PolynomialFeatures\n",
    "from sklearn.linear_model import LinearRegression, Ridge\n",
    "from sklearn.neighbors import KNeighborsRegressor\n",
    "from sklearn.ensemble import RandomForestRegressor\n",
    "from sklearn.svm import SVR\n",
    "from sklearn.feature_selection import SelectPercentile, SelectFromModel, RFE, VarianceThreshold\n",
    "from sklearn.model_selection import train_test_split, KFold, cross_val_score, GridSearchCV\n",
    "from sklearn.metrics import mean_squared_error"
   ]
  },
  {
   "cell_type": "markdown",
   "metadata": {},
   "source": [
    "### Data "
   ]
  },
  {
   "cell_type": "markdown",
   "metadata": {},
   "source": [
    "**Data import**"
   ]
  },
  {
   "cell_type": "code",
   "execution_count": 2,
   "metadata": {},
   "outputs": [],
   "source": [
    "path = r\"C:\\Users\\BrechtDewilde\\Documents\\Github\\Predicting-the-olympic-games\\marathon\\Data c&c\\R\\Data\\output\"\n",
    "Me = pd.read_csv(path + \"\\marathonM_extended.csv\")\n",
    "Fe = pd.read_csv(path + \"\\marathonF_extended.csv\")"
   ]
  },
  {
   "cell_type": "markdown",
   "metadata": {},
   "source": [
    "**Data subsetting**"
   ]
  },
  {
   "cell_type": "code",
   "execution_count": 3,
   "metadata": {},
   "outputs": [],
   "source": [
    "amountFeatures = Me.shape[1]\n",
    "\n",
    "# Feature division\n",
    "numeric_features = ['Age', 'Height', 'Weight', 'bmi', 'Year', 'Population', 'GDP',\n",
    "       'countryWins', 'subRegionWins', 'marathons', 'Gmarathons', 'Smarathons', 'Bmarathons', 'avgTime', 'bestTime',\n",
    "       'avgTimeScore', 'bestTimeScore', 'avgPosition', 'bestPosition', 'avgPositionScore', 'bestPositionScore',\n",
    "                    'avgPerformanceScore', 'bestPerformanceScore', 'monthsBestTime']\n",
    "\n",
    "categoric_features = ['Nationality', 'SubRegion', 'continent', 'HomeAdvantage']\n",
    "\n",
    "target_features = [\"Position\", \"TimeMins\", \"TimeSecs\"]"
   ]
  },
  {
   "cell_type": "markdown",
   "metadata": {},
   "source": [
    "### Functions"
   ]
  },
  {
   "cell_type": "code",
   "execution_count": 4,
   "metadata": {},
   "outputs": [],
   "source": [
    "# Make time predictions for the 2016 dataframe \n",
    "# output is a dictionary, given index (lr, ...) right predictions can be obtained\n",
    "# Use the predicted times to assign positions to each time\n",
    "def time2position(timeList):\n",
    "    test_list = timeList\n",
    "    temp = sorted(timeList)     \n",
    "    res = [temp.index(i) + 1 for i in test_list]\n",
    "    return res\n",
    "\n",
    "def positionComparizer(predicted_positions, actual_positions):\n",
    "    total = len(predicted_positions)\n",
    "    correct, notCorrect, notCorrectScore =  0, 0, 0\n",
    "    correct_predicted = []\n",
    "    \n",
    "    for p, a in zip(predicted_positions, actual_positions):\n",
    "        if p == a:\n",
    "            correct += 1\n",
    "            correct_predicted.append(p)\n",
    "        else:\n",
    "            notCorrect += 1\n",
    "            notCorrectScore += abs(p - a)\n",
    "    return {\"procent\":correct/total , \"deviation\":notCorrectScore/notCorrect , \"corrected\":correct_predicted}\n",
    "\n",
    "def positionTableCreator(positionList, actuals):\n",
    "    actual_positions = actuals\n",
    "    model_names = [\"lr\", \"ridge\", \"knn\", \"svr\", \"rf\"]\n",
    "    procents, deviations, corrects = [], [], []\n",
    "\n",
    "    for name, predictions in zip(model_names, positionList):\n",
    "        output = positionComparizer(predictions, actual_positions)\n",
    "        procents.append(output[\"procent\"])\n",
    "        deviations.append(round(output[\"deviation\"],2))\n",
    "        corrects.append(output[\"corrected\"])\n",
    "        \n",
    "    return pd.DataFrame({\"models\": model_names, \"%\": procents, \"deviation\": deviations, \"correct\":corrects})\n",
    "\n",
    "def trainTestCreator(year):\n",
    "    # returns trainX, trainY, testX, testY\n",
    "    # TestDatasets\n",
    "    Me2016 = Me[Me[\"Year\"]== year]\n",
    "    Me2016X_NF = Me2016.loc[:, numeric_features]\n",
    "    Me2016y = Me2016.loc[:, target_features]\n",
    "    \n",
    "    # TrainDataSets\n",
    "    MeNo2016 =  Me[Me[\"Year\"]!= year]\n",
    "    MeNo2016X_NF = MeNo2016.loc[:, numeric_features]\n",
    "    MeNo2016y = MeNo2016.loc[:, target_features]\n",
    "    \n",
    "    return MeNo2016X_NF, MeNo2016y, Me2016X_NF, Me2016y"
   ]
  },
  {
   "cell_type": "markdown",
   "metadata": {},
   "source": [
    "### Train best regression models on MeNo2016"
   ]
  },
  {
   "cell_type": "markdown",
   "metadata": {},
   "source": [
    "This estimator is trained and tested on the MeNo2016!"
   ]
  },
  {
   "cell_type": "code",
   "execution_count": 5,
   "metadata": {},
   "outputs": [],
   "source": [
    "# In this cell we have to initialize the pipelines with best results\n",
    "kf = KFold(n_splits=5, random_state=1234, shuffle=True)\n",
    "\n",
    "lr_pipe = Pipeline([(\"power\", PowerTransformer()), (\"RFE\", SelectFromModel(RandomForestRegressor(random_state=1234))), \n",
    "                    (\"lr\", LinearRegression())])\n",
    "ridge_pipe = Pipeline([(\"power\", PowerTransformer()), (\"var\",VarianceThreshold()), (\"ridge\",Ridge())])\n",
    "knn_pipe = Pipeline([(\"robust\",RobustScaler()),(\"RFE\",SelectFromModel(RandomForestRegressor(random_state=1234))), \n",
    "                    (\"knn\", KNeighborsRegressor())])\n",
    "svr_pipe = Pipeline([(\"robust\", RobustScaler()), (\"rfe\",SelectFromModel(RandomForestRegressor(random_state=1234))),\n",
    "                     (\"svr\",SVR())])\n",
    "rf_pipe = Pipeline([(\"robust\", RobustScaler()), (\"var\", VarianceThreshold()), (\"rf\", RandomForestRegressor())]) \n",
    "\n",
    "pipes = [lr_pipe, ridge_pipe, knn_pipe, svr_pipe, rf_pipe]"
   ]
  },
  {
   "cell_type": "code",
   "execution_count": 6,
   "metadata": {},
   "outputs": [],
   "source": [
    "def positionListCreator(year):\n",
    "    import warnings\n",
    "    warnings.filterwarnings('ignore')\n",
    "    \n",
    "    positionList = []\n",
    "\n",
    "    trainX, trainY, testX, testY = trainTestCreator(year)\n",
    "\n",
    "    for pipe in pipes:\n",
    "        pipe.fit(trainX, trainY[\"Position\"])\n",
    "        positionList.append(time2position(pipe.predict(testX)))\n",
    "    return positionList, testY[\"Position\"]"
   ]
  },
  {
   "cell_type": "markdown",
   "metadata": {},
   "source": [
    "### PositionPredictionSummary table for each year"
   ]
  },
  {
   "cell_type": "code",
   "execution_count": 26,
   "metadata": {},
   "outputs": [
    {
     "data": {
      "text/html": [
       "<div>\n",
       "<style scoped>\n",
       "    .dataframe tbody tr th:only-of-type {\n",
       "        vertical-align: middle;\n",
       "    }\n",
       "\n",
       "    .dataframe tbody tr th {\n",
       "        vertical-align: top;\n",
       "    }\n",
       "\n",
       "    .dataframe thead th {\n",
       "        text-align: right;\n",
       "    }\n",
       "</style>\n",
       "<table border=\"1\" class=\"dataframe\">\n",
       "  <thead>\n",
       "    <tr style=\"text-align: right;\">\n",
       "      <th></th>\n",
       "      <th>models</th>\n",
       "      <th>%</th>\n",
       "      <th>deviation</th>\n",
       "      <th>correct</th>\n",
       "    </tr>\n",
       "  </thead>\n",
       "  <tbody>\n",
       "    <tr>\n",
       "      <th>0</th>\n",
       "      <td>lr</td>\n",
       "      <td>0.111111</td>\n",
       "      <td>20.12</td>\n",
       "      <td>[2]</td>\n",
       "    </tr>\n",
       "    <tr>\n",
       "      <th>1</th>\n",
       "      <td>ridge</td>\n",
       "      <td>0.111111</td>\n",
       "      <td>20.12</td>\n",
       "      <td>[2]</td>\n",
       "    </tr>\n",
       "    <tr>\n",
       "      <th>2</th>\n",
       "      <td>knn</td>\n",
       "      <td>0.111111</td>\n",
       "      <td>19.88</td>\n",
       "      <td>[2]</td>\n",
       "    </tr>\n",
       "    <tr>\n",
       "      <th>3</th>\n",
       "      <td>svr</td>\n",
       "      <td>0.111111</td>\n",
       "      <td>20.12</td>\n",
       "      <td>[2]</td>\n",
       "    </tr>\n",
       "    <tr>\n",
       "      <th>4</th>\n",
       "      <td>rf</td>\n",
       "      <td>0.000000</td>\n",
       "      <td>18.33</td>\n",
       "      <td>[]</td>\n",
       "    </tr>\n",
       "  </tbody>\n",
       "</table>\n",
       "</div>"
      ],
      "text/plain": [
       "  models         %  deviation correct\n",
       "0     lr  0.111111      20.12     [2]\n",
       "1  ridge  0.111111      20.12     [2]\n",
       "2    knn  0.111111      19.88     [2]\n",
       "3    svr  0.111111      20.12     [2]\n",
       "4     rf  0.000000      18.33      []"
      ]
     },
     "execution_count": 26,
     "metadata": {},
     "output_type": "execute_result"
    }
   ],
   "source": [
    "pList, actualPos = positionListCreator(1972)\n",
    "positionTableCreator(pList, actualPos)"
   ]
  }
 ],
 "metadata": {
  "kernelspec": {
   "display_name": "Python 3",
   "language": "python",
   "name": "python3"
  },
  "language_info": {
   "codemirror_mode": {
    "name": "ipython",
    "version": 3
   },
   "file_extension": ".py",
   "mimetype": "text/x-python",
   "name": "python",
   "nbconvert_exporter": "python",
   "pygments_lexer": "ipython3",
   "version": "3.7.3"
  }
 },
 "nbformat": 4,
 "nbformat_minor": 2
}
