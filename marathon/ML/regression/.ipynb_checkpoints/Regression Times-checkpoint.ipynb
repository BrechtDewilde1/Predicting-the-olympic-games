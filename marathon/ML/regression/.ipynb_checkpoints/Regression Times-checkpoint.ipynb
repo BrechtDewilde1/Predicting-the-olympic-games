{
 "cells": [
  {
   "cell_type": "markdown",
   "metadata": {},
   "source": [
    "### Library Import"
   ]
  },
  {
   "cell_type": "code",
   "execution_count": 1,
   "metadata": {},
   "outputs": [],
   "source": [
    "import warnings\n",
    "warnings.filterwarnings('ignore')"
   ]
  },
  {
   "cell_type": "code",
   "execution_count": 2,
   "metadata": {},
   "outputs": [],
   "source": [
    "import pandas as pd\n",
    "import numpy as np\n",
    "import statistics\n",
    "import math\n",
    "from sklearn.pipeline import Pipeline, make_pipeline\n",
    "from sklearn.compose import ColumnTransformer\n",
    "from sklearn.preprocessing import MinMaxScaler, StandardScaler, Normalizer, Binarizer, PowerTransformer, RobustScaler\n",
    "from sklearn.preprocessing import PolynomialFeatures\n",
    "from sklearn.linear_model import LinearRegression, Ridge\n",
    "from sklearn.neighbors import KNeighborsRegressor\n",
    "from sklearn.ensemble import RandomForestRegressor\n",
    "from sklearn.svm import SVR\n",
    "from sklearn.feature_selection import SelectPercentile, SelectFromModel, RFE, VarianceThreshold\n",
    "from sklearn.model_selection import train_test_split, KFold, cross_val_score, GridSearchCV\n",
    "from sklearn.metrics import mean_squared_error"
   ]
  },
  {
   "cell_type": "markdown",
   "metadata": {},
   "source": [
    "### Functions"
   ]
  },
  {
   "cell_type": "code",
   "execution_count": 52,
   "metadata": {},
   "outputs": [],
   "source": [
    "# summarizes the output of a cross-validated mse array\n",
    "def MSE_summarizer(array):\n",
    "    return math.sqrt(statistics.mean(abs(array)))\n",
    "\n",
    "# Create a pandas dataframe with: modelName, modelParameters, ModelFeatures, Score, Scaler, Selector\n",
    "def TableCreator(grids, model_names, feature_set, mae=False):\n",
    "    modelParameters, modelFeatures, modelScores, modelScalers, modelSelectors = [], [], [], [], []\n",
    "    for grid in grids:\n",
    "        best_iteration = grid.best_estimator_\n",
    "        names = list(grid.best_estimator_.named_steps.keys())\n",
    "        modelParameters.append(grid.best_params_)\n",
    "        modelFeatures.append(list(feature_set[best_iteration.named_steps[names[1]].get_support()]))\n",
    "        modelScores.append(math.sqrt(abs(grid.best_score_)))\n",
    "        modelScalers.append(names[0])\n",
    "        modelSelectors.append(names[1])\n",
    "        \n",
    "    pd.set_option('display.max_colwidth', -1)\n",
    "    if mae:\n",
    "        return pd.DataFrame({\"modelName\":model_names, \"modelParameter\":modelParameters, \"features\": modelFeatures,\n",
    "                        \"MAE\": modelScores, \"Scaler\": modelScalers, \"Selector\": modelSelectors})\n",
    "    else:\n",
    "        return pd.DataFrame({\"modelName\":model_names, \"modelParameter\":modelParameters, \"features\": modelFeatures,\n",
    "                        \"RMSE\": modelScores, \"Scaler\": modelScalers, \"Selector\": modelSelectors})\n",
    "\n",
    "# Function to extract model insights of the best estimator of each grid\n",
    "def modelExtractor(model, grids):\n",
    "    if model == 'lr':\n",
    "        # Linear Regression\n",
    "        names = list(grids[0].best_estimator_.named_steps.keys())\n",
    "        best_iteration = grids[0].best_estimator_\n",
    "        features = list(MeX_NF.columns[best_iteration.named_steps[names[1]].get_support()])\n",
    "        coefficients = list(grids[0].best_estimator_.named_steps[\"lr\"].coef_)\n",
    "        return \"The features are:\\n {} \\n\\n With coefficients: \\n {}\".format(features, coefficients)\n",
    "    \n",
    "    elif model == \"ridge\":\n",
    "        names = list(grids[1].best_estimator_.named_steps.keys())\n",
    "        best_iteration = grids[1].best_estimator_\n",
    "        features = list(MeX_NF.columns[best_iteration.named_steps[names[1]].get_support()])\n",
    "        coefficients = list(grids[1].best_estimator_.named_steps[\"ridge\"].coef_)\n",
    "        return \"The features are:\\n {} \\n\\n With coefficients: \\n {}\".format(features, coefficients)\n",
    "\n",
    "    elif model == \"svm\":\n",
    "        names = list(grids[3].best_estimator_.named_steps.keys())\n",
    "        best_iteration = grids[3].best_estimator_\n",
    "        features = list(MeX_NF.columns[best_iteration.named_steps[names[1]].get_support()])\n",
    "        coefficients = list(grids[3].best_estimator_.named_steps[\"svr\"].coef_)\n",
    "        return \"The features are:\\n {} \\n\\n With coefficients: \\n {}\".format(features, coefficients)\n",
    "    \n",
    "    elif model == \"rf\":\n",
    "        names = list(grids[4].best_estimator_.named_steps.keys())\n",
    "        best_iteration = grids[4].best_estimator_\n",
    "        features = list(MeX_NF.columns[best_iteration.named_steps[names[1]].get_support()])\n",
    "        coefficients = list(grids[4].best_estimator_.named_steps[\"rf\"].feature_importances_)\n",
    "        return \"The features are:\\n {} \\n\\n With importances: \\n {}\".format(features, coefficients)"
   ]
  },
  {
   "cell_type": "markdown",
   "metadata": {},
   "source": [
    "### Data"
   ]
  },
  {
   "cell_type": "markdown",
   "metadata": {},
   "source": [
    "**Data import**"
   ]
  },
  {
   "cell_type": "code",
   "execution_count": 4,
   "metadata": {},
   "outputs": [],
   "source": [
    "path = r\"C:\\Users\\BrechtDewilde\\Documents\\Github\\Predicting-the-olympic-games\\marathon\\Data c&c\\R\\Data\\output\"\n",
    "Me = pd.read_csv(path + \"\\marathonM_extended.csv\")\n",
    "Fe = pd.read_csv(path + \"\\marathonF_extended.csv\")"
   ]
  },
  {
   "cell_type": "markdown",
   "metadata": {},
   "source": [
    "**Subset & dummy coding**"
   ]
  },
  {
   "cell_type": "code",
   "execution_count": 5,
   "metadata": {},
   "outputs": [],
   "source": [
    "amountFeatures = Me.shape[1]\n",
    "\n",
    "# Feature division\n",
    "numeric_features = ['Age', 'Height', 'Weight', 'bmi', 'Year', 'Population', 'GDP',\n",
    "       'countryWins', 'subRegionWins', 'marathons', 'Gmarathons', 'Smarathons', 'Bmarathons', 'avgTime', 'bestTime',\n",
    "       'avgTimeScore', 'bestTimeScore', 'avgPosition', 'bestPosition', 'avgPositionScore', 'bestPositionScore',\n",
    "                    'avgPerformanceScore', 'bestPerformanceScore', 'monthsBestTime']\n",
    "\n",
    "categoric_features = ['Nationality', 'SubRegion', 'continent', 'HomeAdvantage']\n",
    "\n",
    "target_features = [\"Position\", \"TimeMins\", \"TimeSecs\"]\n",
    "\n",
    "# X subsetting\n",
    "MeX_NF = Me.loc[:, numeric_features]\n",
    "MeX_CF = Me.loc[:, categoric_features]\n",
    "Mey_F = Me.loc[:, target_features]\n",
    "\n",
    "# Dummy coding\n",
    "temp = pd.get_dummies(MeX_CF, columns = categoric_features)\n",
    "MeX_dummy_CF = temp.rename(columns = {'continent_Africa':\"Africa\", 'continent_Asia':'Asia', 'continent_Europe':\"Europe\",\n",
    "       'continent_Latin America and the Caribbean':\"Latin America\", 'continent_Northern America': \"Northern America\",\n",
    "        'continent_Oceania':\"Oceania\", 'HomeAdvantage_False':\"NO homeadvantage\", 'HomeAdvantage_True':\"Home advantage\"})"
   ]
  },
  {
   "cell_type": "markdown",
   "metadata": {},
   "source": [
    "### Model comparison"
   ]
  },
  {
   "cell_type": "markdown",
   "metadata": {},
   "source": [
    "**Numeric features**"
   ]
  },
  {
   "cell_type": "code",
   "execution_count": 26,
   "metadata": {},
   "outputs": [],
   "source": [
    "kf = KFold(n_splits=5, random_state=1234, shuffle=True)\n",
    "\n",
    "models = [LinearRegression(), Ridge(), KNeighborsRegressor(), SVR(kernel=\"linear\"), RandomForestRegressor()]\n",
    "model_names = [\"lr\", \"ridge\", \"knn\", \"svr\", \"rf\"]\n",
    "\n",
    "ridge_grid = {\"ridge__alpha\":[0.001, 0.01, 0.1, 1, 10, 100]}\n",
    "knn_grid = {\"knn__n_neighbors\":[1,5,20,30,50,100,200]}\n",
    "svr_grid = {\"svr__C\": [0.001, 0.01, 0.1, 1, 10, 100], \"svr__gamma\":[0.001, 0.01, 0.1, 1, 10, 100]}\n",
    "RF_grid = {\"rf__n_estimators\":[100,200,300]}\n",
    "param_grids = [{}, ridge_grid, knn_grid, svr_grid, RF_grid]\n",
    "\n",
    "scalers = [MinMaxScaler(), StandardScaler(), RobustScaler(), PowerTransformer(), Normalizer(), Binarizer()] \n",
    "scaler_names = [\"MinMax\",\"standard\", \"robust\", \"power\", \"normalizer\", \"binarizer\"]\n",
    "\n",
    "selectors = [SelectPercentile(), SelectFromModel(RandomForestRegressor(random_state=1234)), VarianceThreshold()]\n",
    "selectors_name = [\"PercentileSelector\", \"RFE_RF_score\", \"varianceTH\"]"
   ]
  },
  {
   "cell_type": "code",
   "execution_count": 28,
   "metadata": {},
   "outputs": [
    {
     "data": {
      "text/html": [
       "<div>\n",
       "<style scoped>\n",
       "    .dataframe tbody tr th:only-of-type {\n",
       "        vertical-align: middle;\n",
       "    }\n",
       "\n",
       "    .dataframe tbody tr th {\n",
       "        vertical-align: top;\n",
       "    }\n",
       "\n",
       "    .dataframe thead th {\n",
       "        text-align: right;\n",
       "    }\n",
       "</style>\n",
       "<table border=\"1\" class=\"dataframe\">\n",
       "  <thead>\n",
       "    <tr style=\"text-align: right;\">\n",
       "      <th></th>\n",
       "      <th>modelName</th>\n",
       "      <th>modelParameter</th>\n",
       "      <th>features</th>\n",
       "      <th>RMSE</th>\n",
       "      <th>Scaler</th>\n",
       "      <th>Selector</th>\n",
       "    </tr>\n",
       "  </thead>\n",
       "  <tbody>\n",
       "    <tr>\n",
       "      <th>0</th>\n",
       "      <td>lr</td>\n",
       "      <td>{}</td>\n",
       "      <td>[Age, bmi, Population, GDP, avgTime, bestTime, avgTimeScore, bestTimeScore]</td>\n",
       "      <td>2.178338</td>\n",
       "      <td>robust</td>\n",
       "      <td>RFE_RF_score</td>\n",
       "    </tr>\n",
       "    <tr>\n",
       "      <th>1</th>\n",
       "      <td>ridge</td>\n",
       "      <td>{'ridge__alpha': 0.001}</td>\n",
       "      <td>[Age, bmi, Population, GDP, avgTime, bestTime, avgTimeScore, bestTimeScore]</td>\n",
       "      <td>2.174662</td>\n",
       "      <td>MinMax</td>\n",
       "      <td>RFE_RF_score</td>\n",
       "    </tr>\n",
       "    <tr>\n",
       "      <th>2</th>\n",
       "      <td>knn</td>\n",
       "      <td>{'knn__n_neighbors': 30}</td>\n",
       "      <td>[Age, Weight, bmi, Population, GDP, avgTime, bestTime, avgTimeScore, bestTimeScore, avgPerformanceScore, bestPerformanceScore, monthsBestTime]</td>\n",
       "      <td>2.179857</td>\n",
       "      <td>robust</td>\n",
       "      <td>RFE_RF_Score</td>\n",
       "    </tr>\n",
       "    <tr>\n",
       "      <th>3</th>\n",
       "      <td>svr</td>\n",
       "      <td>{'svr__C': 0.1, 'svr__gamma': 0.001}</td>\n",
       "      <td>[Age, Height, Weight, bmi, Year, Population, GDP, countryWins, subRegionWins, marathons, Gmarathons, Smarathons, Bmarathons, avgTime, bestTime, avgTimeScore, bestTimeScore, avgPosition, bestPosition, avgPositionScore, bestPositionScore, avgPerformanceScore, bestPerformanceScore, monthsBestTime]</td>\n",
       "      <td>2.160111</td>\n",
       "      <td>standard</td>\n",
       "      <td>varianceTH</td>\n",
       "    </tr>\n",
       "    <tr>\n",
       "      <th>4</th>\n",
       "      <td>rf</td>\n",
       "      <td>{'rf__n_estimators': 100}</td>\n",
       "      <td>[Age, Weight, bmi, Population, GDP, avgTime, bestTime, avgTimeScore, bestTimeScore, avgPerformanceScore, bestPerformanceScore, monthsBestTime]</td>\n",
       "      <td>2.200763</td>\n",
       "      <td>standard</td>\n",
       "      <td>RFE_RF_Score</td>\n",
       "    </tr>\n",
       "  </tbody>\n",
       "</table>\n",
       "</div>"
      ],
      "text/plain": [
       "  modelName                        modelParameter  \\\n",
       "0  lr        {}                                     \n",
       "1  ridge     {'ridge__alpha': 0.001}                \n",
       "2  knn       {'knn__n_neighbors': 30}               \n",
       "3  svr       {'svr__C': 0.1, 'svr__gamma': 0.001}   \n",
       "4  rf        {'rf__n_estimators': 100}              \n",
       "\n",
       "                                                                                                                                                                                                                                                                                                  features  \\\n",
       "0  [Age, bmi, Population, GDP, avgTime, bestTime, avgTimeScore, bestTimeScore]                                                                                                                                                                                                                               \n",
       "1  [Age, bmi, Population, GDP, avgTime, bestTime, avgTimeScore, bestTimeScore]                                                                                                                                                                                                                               \n",
       "2  [Age, Weight, bmi, Population, GDP, avgTime, bestTime, avgTimeScore, bestTimeScore, avgPerformanceScore, bestPerformanceScore, monthsBestTime]                                                                                                                                                            \n",
       "3  [Age, Height, Weight, bmi, Year, Population, GDP, countryWins, subRegionWins, marathons, Gmarathons, Smarathons, Bmarathons, avgTime, bestTime, avgTimeScore, bestTimeScore, avgPosition, bestPosition, avgPositionScore, bestPositionScore, avgPerformanceScore, bestPerformanceScore, monthsBestTime]   \n",
       "4  [Age, Weight, bmi, Population, GDP, avgTime, bestTime, avgTimeScore, bestTimeScore, avgPerformanceScore, bestPerformanceScore, monthsBestTime]                                                                                                                                                            \n",
       "\n",
       "       RMSE    Scaler      Selector  \n",
       "0  2.178338  robust    RFE_RF_score  \n",
       "1  2.174662  MinMax    RFE_RF_score  \n",
       "2  2.179857  robust    RFE_RF_Score  \n",
       "3  2.160111  standard  varianceTH    \n",
       "4  2.200763  standard  RFE_RF_Score  "
      ]
     },
     "execution_count": 28,
     "metadata": {},
     "output_type": "execute_result"
    }
   ],
   "source": [
    "import warnings\n",
    "warnings.filterwarnings('ignore')\n",
    "\n",
    "MAE_grids = []\n",
    "grid_selector = 0\n",
    "\n",
    "for model, model_name in zip(models, model_names):\n",
    "    best_score = 1000000000000\n",
    "    for selector, selector_name in zip(selectors, selectors_name):\n",
    "        for scaler, scaler_name in zip(scalers, scaler_names):\n",
    "                \n",
    "            pipe = Pipeline([(scaler_name,scaler), (selector_name,selector),(model_name, model)])\n",
    "            grid = GridSearchCV(pipe, param_grid=param_grids[grid_selector],cv=kf,scoring= \"neg_mean_absolute_error\")\n",
    "            grid.fit(MeX_NF, Mey_F.loc[:,\"TimeMins\"])\n",
    "            output = abs(grid.best_score_ )\n",
    "\n",
    "            if output < best_score:\n",
    "                best_score = output\n",
    "                best_grid = grid\n",
    "\n",
    "    MAE_grids.append(best_grid)\n",
    "    grid_selector += 1\n",
    "TableCreator(MAE_grids, model_names, MeX_NF.columns)"
   ]
  },
  {
   "cell_type": "markdown",
   "metadata": {},
   "source": [
    "**Numeric features with log transformed target variable**"
   ]
  },
  {
   "cell_type": "code",
   "execution_count": 29,
   "metadata": {},
   "outputs": [
    {
     "data": {
      "text/html": [
       "<div>\n",
       "<style scoped>\n",
       "    .dataframe tbody tr th:only-of-type {\n",
       "        vertical-align: middle;\n",
       "    }\n",
       "\n",
       "    .dataframe tbody tr th {\n",
       "        vertical-align: top;\n",
       "    }\n",
       "\n",
       "    .dataframe thead th {\n",
       "        text-align: right;\n",
       "    }\n",
       "</style>\n",
       "<table border=\"1\" class=\"dataframe\">\n",
       "  <thead>\n",
       "    <tr style=\"text-align: right;\">\n",
       "      <th></th>\n",
       "      <th>modelName</th>\n",
       "      <th>modelParameter</th>\n",
       "      <th>features</th>\n",
       "      <th>RMSE</th>\n",
       "      <th>Scaler</th>\n",
       "      <th>Selector</th>\n",
       "    </tr>\n",
       "  </thead>\n",
       "  <tbody>\n",
       "    <tr>\n",
       "      <th>0</th>\n",
       "      <td>lr</td>\n",
       "      <td>{}</td>\n",
       "      <td>[Age, Weight, bmi, Year, Population, countryWins, avgTimeScore, bestTimeScore, avgPosition, avgPerformanceScore, bestPerformanceScore, monthsBestTime]</td>\n",
       "      <td>0.042332</td>\n",
       "      <td>power</td>\n",
       "      <td>RFE_RF_Score</td>\n",
       "    </tr>\n",
       "    <tr>\n",
       "      <th>1</th>\n",
       "      <td>ridge</td>\n",
       "      <td>{'ridge__alpha': 100}</td>\n",
       "      <td>[Age, Height, Weight, bmi, Year, Population, countryWins, subRegionWins, marathons, Gmarathons, Smarathons, Bmarathons, avgTime, bestTime, avgTimeScore, bestTimeScore, avgPosition, bestPosition, avgPositionScore, bestPositionScore, avgPerformanceScore, bestPerformanceScore, monthsBestTime]</td>\n",
       "      <td>0.041841</td>\n",
       "      <td>power</td>\n",
       "      <td>varianceTH</td>\n",
       "    </tr>\n",
       "    <tr>\n",
       "      <th>2</th>\n",
       "      <td>knn</td>\n",
       "      <td>{'knn__n_neighbors': 30}</td>\n",
       "      <td>[Age, bmi, Population, GDP, avgTime, bestTime, avgTimeScore, bestTimeScore]</td>\n",
       "      <td>0.042680</td>\n",
       "      <td>robust</td>\n",
       "      <td>RFE_RF_score</td>\n",
       "    </tr>\n",
       "    <tr>\n",
       "      <th>3</th>\n",
       "      <td>svr</td>\n",
       "      <td>{'svr__C': 0.001, 'svr__gamma': 0.001}</td>\n",
       "      <td>[Age, bmi, Population, GDP, avgTime, bestTime, avgTimeScore, bestTimeScore]</td>\n",
       "      <td>0.054135</td>\n",
       "      <td>robust</td>\n",
       "      <td>RFE_RF_score</td>\n",
       "    </tr>\n",
       "    <tr>\n",
       "      <th>4</th>\n",
       "      <td>rf</td>\n",
       "      <td>{'rf__n_estimators': 300}</td>\n",
       "      <td>[Age, Height, Weight, bmi, Year, Population, GDP, countryWins, subRegionWins, marathons, Gmarathons, Smarathons, Bmarathons, avgTime, bestTime, avgTimeScore, bestTimeScore, avgPosition, bestPosition, avgPositionScore, bestPositionScore, avgPerformanceScore, bestPerformanceScore, monthsBestTime]</td>\n",
       "      <td>0.043549</td>\n",
       "      <td>robust</td>\n",
       "      <td>varianceTH</td>\n",
       "    </tr>\n",
       "  </tbody>\n",
       "</table>\n",
       "</div>"
      ],
      "text/plain": [
       "  modelName                          modelParameter  \\\n",
       "0  lr        {}                                       \n",
       "1  ridge     {'ridge__alpha': 100}                    \n",
       "2  knn       {'knn__n_neighbors': 30}                 \n",
       "3  svr       {'svr__C': 0.001, 'svr__gamma': 0.001}   \n",
       "4  rf        {'rf__n_estimators': 300}                \n",
       "\n",
       "                                                                                                                                                                                                                                                                                                  features  \\\n",
       "0  [Age, Weight, bmi, Year, Population, countryWins, avgTimeScore, bestTimeScore, avgPosition, avgPerformanceScore, bestPerformanceScore, monthsBestTime]                                                                                                                                                    \n",
       "1  [Age, Height, Weight, bmi, Year, Population, countryWins, subRegionWins, marathons, Gmarathons, Smarathons, Bmarathons, avgTime, bestTime, avgTimeScore, bestTimeScore, avgPosition, bestPosition, avgPositionScore, bestPositionScore, avgPerformanceScore, bestPerformanceScore, monthsBestTime]        \n",
       "2  [Age, bmi, Population, GDP, avgTime, bestTime, avgTimeScore, bestTimeScore]                                                                                                                                                                                                                               \n",
       "3  [Age, bmi, Population, GDP, avgTime, bestTime, avgTimeScore, bestTimeScore]                                                                                                                                                                                                                               \n",
       "4  [Age, Height, Weight, bmi, Year, Population, GDP, countryWins, subRegionWins, marathons, Gmarathons, Smarathons, Bmarathons, avgTime, bestTime, avgTimeScore, bestTimeScore, avgPosition, bestPosition, avgPositionScore, bestPositionScore, avgPerformanceScore, bestPerformanceScore, monthsBestTime]   \n",
       "\n",
       "       RMSE  Scaler      Selector  \n",
       "0  0.042332  power   RFE_RF_Score  \n",
       "1  0.041841  power   varianceTH    \n",
       "2  0.042680  robust  RFE_RF_score  \n",
       "3  0.054135  robust  RFE_RF_score  \n",
       "4  0.043549  robust  varianceTH    "
      ]
     },
     "execution_count": 29,
     "metadata": {},
     "output_type": "execute_result"
    }
   ],
   "source": [
    "import warnings\n",
    "warnings.filterwarnings('ignore')\n",
    "\n",
    "y = np.log(Mey_F.loc[:,\"TimeMins\"])\n",
    "MAE_log_grids = []\n",
    "grid_selector = 0\n",
    "\n",
    "for model, model_name in zip(models, model_names):\n",
    "    best_score = 1000000000000\n",
    "    for selector, selector_name in zip(selectors, selectors_name):\n",
    "        for scaler, scaler_name in zip(scalers, scaler_names):\n",
    "                \n",
    "            pipe = Pipeline([(scaler_name,scaler), (selector_name,selector),(model_name, model)])\n",
    "            grid = GridSearchCV(pipe, param_grid=param_grids[grid_selector],cv=kf,scoring= \"neg_mean_absolute_error\")\n",
    "            grid.fit(MeX_NF, y)\n",
    "            output = abs(grid.best_score_ )\n",
    "\n",
    "            if output < best_score:\n",
    "                best_score = output\n",
    "                best_grid = grid\n",
    "\n",
    "    MAE_log_grids.append(best_grid)\n",
    "    grid_selector += 1\n",
    "TableCreator(log_grids, model_names, MeX_NF.columns)"
   ]
  },
  {
   "cell_type": "markdown",
   "metadata": {},
   "source": [
    "**Numeric features and categoric features** <br/> Continent and homeadvantage"
   ]
  },
  {
   "cell_type": "code",
   "execution_count": 30,
   "metadata": {},
   "outputs": [
    {
     "data": {
      "text/html": [
       "<div>\n",
       "<style scoped>\n",
       "    .dataframe tbody tr th:only-of-type {\n",
       "        vertical-align: middle;\n",
       "    }\n",
       "\n",
       "    .dataframe tbody tr th {\n",
       "        vertical-align: top;\n",
       "    }\n",
       "\n",
       "    .dataframe thead th {\n",
       "        text-align: right;\n",
       "    }\n",
       "</style>\n",
       "<table border=\"1\" class=\"dataframe\">\n",
       "  <thead>\n",
       "    <tr style=\"text-align: right;\">\n",
       "      <th></th>\n",
       "      <th>modelName</th>\n",
       "      <th>modelParameter</th>\n",
       "      <th>features</th>\n",
       "      <th>RMSE</th>\n",
       "      <th>Scaler</th>\n",
       "      <th>Selector</th>\n",
       "    </tr>\n",
       "  </thead>\n",
       "  <tbody>\n",
       "    <tr>\n",
       "      <th>0</th>\n",
       "      <td>lr</td>\n",
       "      <td>{}</td>\n",
       "      <td>[Age, Weight, bmi, Population, GDP, avgTime, bestTime, avgTimeScore, bestTimeScore, avgPerformanceScore, bestPerformanceScore, monthsBestTime]</td>\n",
       "      <td>2.177477</td>\n",
       "      <td>preprocessor</td>\n",
       "      <td>RFE_RF_score</td>\n",
       "    </tr>\n",
       "    <tr>\n",
       "      <th>1</th>\n",
       "      <td>ridge</td>\n",
       "      <td>{'ridge__alpha': 100}</td>\n",
       "      <td>[Age, Height, Weight, bmi, Year, Population, countryWins, subRegionWins, marathons, Gmarathons, Smarathons, Bmarathons, avgTime, bestTime, avgTimeScore, bestTimeScore, avgPosition, bestPosition, avgPositionScore, bestPositionScore, avgPerformanceScore, bestPerformanceScore, monthsBestTime, Africa, Asia, Europe, Latin America, Northern America, Oceania, NO homeadvantage, Home advantage]</td>\n",
       "      <td>2.175120</td>\n",
       "      <td>preprocessor</td>\n",
       "      <td>varianceTH</td>\n",
       "    </tr>\n",
       "    <tr>\n",
       "      <th>2</th>\n",
       "      <td>knn</td>\n",
       "      <td>{'knn__n_neighbors': 30}</td>\n",
       "      <td>[Age, Height, Weight, bmi, Year, Population, GDP, marathons, avgTime, bestTime, avgTimeScore, bestTimeScore, avgPosition, avgPerformanceScore, bestPerformanceScore, monthsBestTime]</td>\n",
       "      <td>2.186278</td>\n",
       "      <td>preprocessor</td>\n",
       "      <td>RFE_RF_Score</td>\n",
       "    </tr>\n",
       "    <tr>\n",
       "      <th>3</th>\n",
       "      <td>svr</td>\n",
       "      <td>{'svr__C': 1, 'svr__gamma': 0.001}</td>\n",
       "      <td>[Age, Height, Weight, bmi, Year, Population, countryWins, subRegionWins, marathons, Gmarathons, Smarathons, Bmarathons, avgTime, bestTime, avgTimeScore, bestTimeScore, avgPosition, bestPosition, avgPositionScore, bestPositionScore, avgPerformanceScore, bestPerformanceScore, monthsBestTime, Africa, Asia, Europe, Latin America, Northern America, Oceania, NO homeadvantage, Home advantage]</td>\n",
       "      <td>2.158697</td>\n",
       "      <td>preprocessor</td>\n",
       "      <td>varianceTH</td>\n",
       "    </tr>\n",
       "    <tr>\n",
       "      <th>4</th>\n",
       "      <td>rf</td>\n",
       "      <td>{'rf__n_estimators': 300}</td>\n",
       "      <td>[Age, Height, Weight, bmi, Year, Population, GDP, countryWins, subRegionWins, marathons, Gmarathons, Smarathons, Bmarathons, avgTime, bestTime, avgTimeScore, bestTimeScore, avgPosition, bestPosition, avgPositionScore, bestPositionScore, avgPerformanceScore, bestPerformanceScore, monthsBestTime, Africa, Asia, Europe, Latin America, Northern America, Oceania, NO homeadvantage, Home advantage]</td>\n",
       "      <td>2.207084</td>\n",
       "      <td>preprocessor</td>\n",
       "      <td>varianceTH</td>\n",
       "    </tr>\n",
       "  </tbody>\n",
       "</table>\n",
       "</div>"
      ],
      "text/plain": [
       "  modelName                      modelParameter  \\\n",
       "0  lr        {}                                   \n",
       "1  ridge     {'ridge__alpha': 100}                \n",
       "2  knn       {'knn__n_neighbors': 30}             \n",
       "3  svr       {'svr__C': 1, 'svr__gamma': 0.001}   \n",
       "4  rf        {'rf__n_estimators': 300}            \n",
       "\n",
       "                                                                                                                                                                                                                                                                                                                                                                                                    features  \\\n",
       "0  [Age, Weight, bmi, Population, GDP, avgTime, bestTime, avgTimeScore, bestTimeScore, avgPerformanceScore, bestPerformanceScore, monthsBestTime]                                                                                                                                                                                                                                                              \n",
       "1  [Age, Height, Weight, bmi, Year, Population, countryWins, subRegionWins, marathons, Gmarathons, Smarathons, Bmarathons, avgTime, bestTime, avgTimeScore, bestTimeScore, avgPosition, bestPosition, avgPositionScore, bestPositionScore, avgPerformanceScore, bestPerformanceScore, monthsBestTime, Africa, Asia, Europe, Latin America, Northern America, Oceania, NO homeadvantage, Home advantage]        \n",
       "2  [Age, Height, Weight, bmi, Year, Population, GDP, marathons, avgTime, bestTime, avgTimeScore, bestTimeScore, avgPosition, avgPerformanceScore, bestPerformanceScore, monthsBestTime]                                                                                                                                                                                                                        \n",
       "3  [Age, Height, Weight, bmi, Year, Population, countryWins, subRegionWins, marathons, Gmarathons, Smarathons, Bmarathons, avgTime, bestTime, avgTimeScore, bestTimeScore, avgPosition, bestPosition, avgPositionScore, bestPositionScore, avgPerformanceScore, bestPerformanceScore, monthsBestTime, Africa, Asia, Europe, Latin America, Northern America, Oceania, NO homeadvantage, Home advantage]        \n",
       "4  [Age, Height, Weight, bmi, Year, Population, GDP, countryWins, subRegionWins, marathons, Gmarathons, Smarathons, Bmarathons, avgTime, bestTime, avgTimeScore, bestTimeScore, avgPosition, bestPosition, avgPositionScore, bestPositionScore, avgPerformanceScore, bestPerformanceScore, monthsBestTime, Africa, Asia, Europe, Latin America, Northern America, Oceania, NO homeadvantage, Home advantage]   \n",
       "\n",
       "       RMSE        Scaler      Selector  \n",
       "0  2.177477  preprocessor  RFE_RF_score  \n",
       "1  2.175120  preprocessor  varianceTH    \n",
       "2  2.186278  preprocessor  RFE_RF_Score  \n",
       "3  2.158697  preprocessor  varianceTH    \n",
       "4  2.207084  preprocessor  varianceTH    "
      ]
     },
     "execution_count": 30,
     "metadata": {},
     "output_type": "execute_result"
    }
   ],
   "source": [
    "import warnings\n",
    "warnings.filterwarnings('ignore')\n",
    "\n",
    "MAE_categoric_grids = []\n",
    "grid_selector = 0\n",
    "\n",
    "MEX_continent_homeAdvantage = MeX_dummy_CF.iloc[:, -8:]\n",
    "full_data = pd.concat([MeX_NF, MEX_continent_homeAdvantage], axis=1)\n",
    "categorical_columns = full_data.columns[-8:]\n",
    "\n",
    "for model, model_name in zip(models, model_names):\n",
    "    best_score = 1000000000000\n",
    "    for selector, selector_name in zip(selectors, selectors_name):\n",
    "        for scaler, scaler_name in zip(scalers, scaler_names):\n",
    "            # pre-process PipeLines for numeric and categorical features\n",
    "            numeric_transformer = Pipeline(steps = [(scaler_name, scaler)])\n",
    "            categorical_transformer = Pipeline(steps = [(\"onehot\", None)])\n",
    "            preprocessor = ColumnTransformer(transformers=[('num', numeric_transformer, numeric_features),\n",
    "                                                           ('cat', \"passthrough\", categorical_columns)])\n",
    "\n",
    "            # GridSearch\n",
    "            pipe = Pipeline(steps=[('preprocessor', preprocessor), (selector_name,selector), (model_name, model)])\n",
    "            grid = GridSearchCV(pipe, param_grid=param_grids[grid_selector], cv=kf, scoring= \"neg_mean_squared_error\")\n",
    "            grid.fit(full_data, Mey_F.loc[:,\"TimeMins\"])\n",
    "            output = abs(grid.best_score_ )\n",
    "            \n",
    "            if output < best_score:\n",
    "                best_score = output\n",
    "                best_grid = grid\n",
    "                \n",
    "    MAE_categoric_grids.append(best_grid)\n",
    "    grid_selector += 1\n",
    "TableCreator(MAE_categoric_grids, model_names, full_data.columns)"
   ]
  },
  {
   "cell_type": "markdown",
   "metadata": {},
   "source": [
    "**Numeric and categoric features with log transformed target variable**"
   ]
  },
  {
   "cell_type": "code",
   "execution_count": 87,
   "metadata": {},
   "outputs": [
    {
     "data": {
      "text/html": [
       "<div>\n",
       "<style scoped>\n",
       "    .dataframe tbody tr th:only-of-type {\n",
       "        vertical-align: middle;\n",
       "    }\n",
       "\n",
       "    .dataframe tbody tr th {\n",
       "        vertical-align: top;\n",
       "    }\n",
       "\n",
       "    .dataframe thead th {\n",
       "        text-align: right;\n",
       "    }\n",
       "</style>\n",
       "<table border=\"1\" class=\"dataframe\">\n",
       "  <thead>\n",
       "    <tr style=\"text-align: right;\">\n",
       "      <th></th>\n",
       "      <th>modelName</th>\n",
       "      <th>modelParameter</th>\n",
       "      <th>features</th>\n",
       "      <th>RMSE</th>\n",
       "      <th>Scaler</th>\n",
       "      <th>Selector</th>\n",
       "    </tr>\n",
       "  </thead>\n",
       "  <tbody>\n",
       "    <tr>\n",
       "      <th>0</th>\n",
       "      <td>lr</td>\n",
       "      <td>{}</td>\n",
       "      <td>[Age, Weight, bmi, Year, Population, avgTimeScore, bestTimeScore, avgPerformanceScore, bestPerformanceScore, monthsBestTime]</td>\n",
       "      <td>0.042598</td>\n",
       "      <td>preprocessor</td>\n",
       "      <td>RFE_RF_score</td>\n",
       "    </tr>\n",
       "    <tr>\n",
       "      <th>1</th>\n",
       "      <td>ridge</td>\n",
       "      <td>{'ridge__alpha': 100}</td>\n",
       "      <td>[Age, Height, Weight, bmi, Year, Population, countryWins, subRegionWins, marathons, Gmarathons, Smarathons, Bmarathons, avgTime, bestTime, avgTimeScore, bestTimeScore, avgPosition, bestPosition, avgPositionScore, bestPositionScore, avgPerformanceScore, bestPerformanceScore, monthsBestTime, Africa, Asia, Europe, Latin America, Northern America, Oceania, NO homeadvantage, Home advantage]</td>\n",
       "      <td>0.041699</td>\n",
       "      <td>preprocessor</td>\n",
       "      <td>varianceTH</td>\n",
       "    </tr>\n",
       "    <tr>\n",
       "      <th>2</th>\n",
       "      <td>knn</td>\n",
       "      <td>{'knn__n_neighbors': 30}</td>\n",
       "      <td>[Age, Height, Weight, bmi, Year, Population, GDP, marathons, avgTime, bestTime, avgTimeScore, bestTimeScore, avgPosition, avgPerformanceScore, bestPerformanceScore, monthsBestTime]</td>\n",
       "      <td>0.042362</td>\n",
       "      <td>preprocessor</td>\n",
       "      <td>RFE_RF_Score</td>\n",
       "    </tr>\n",
       "    <tr>\n",
       "      <th>3</th>\n",
       "      <td>svr</td>\n",
       "      <td>{'svr__C': 0.001, 'svr__gamma': 0.001}</td>\n",
       "      <td>[avgTime, bestTime, avgTimeScore, Oceania]</td>\n",
       "      <td>0.054187</td>\n",
       "      <td>preprocessor</td>\n",
       "      <td>PercentileSelector</td>\n",
       "    </tr>\n",
       "    <tr>\n",
       "      <th>4</th>\n",
       "      <td>rf</td>\n",
       "      <td>{'rf__n_estimators': 200}</td>\n",
       "      <td>[Age, Height, Weight, bmi, Year, Population, GDP, countryWins, subRegionWins, marathons, Gmarathons, Smarathons, Bmarathons, avgTime, bestTime, avgTimeScore, bestTimeScore, avgPosition, bestPosition, avgPositionScore, bestPositionScore, avgPerformanceScore, bestPerformanceScore, monthsBestTime, Africa, Asia, Europe, Latin America, Northern America, Oceania, NO homeadvantage, Home advantage]</td>\n",
       "      <td>0.043624</td>\n",
       "      <td>preprocessor</td>\n",
       "      <td>varianceTH</td>\n",
       "    </tr>\n",
       "  </tbody>\n",
       "</table>\n",
       "</div>"
      ],
      "text/plain": [
       "  modelName                          modelParameter  \\\n",
       "0  lr        {}                                       \n",
       "1  ridge     {'ridge__alpha': 100}                    \n",
       "2  knn       {'knn__n_neighbors': 30}                 \n",
       "3  svr       {'svr__C': 0.001, 'svr__gamma': 0.001}   \n",
       "4  rf        {'rf__n_estimators': 200}                \n",
       "\n",
       "                                                                                                                                                                                                                                                                                                                                                                                                    features  \\\n",
       "0  [Age, Weight, bmi, Year, Population, avgTimeScore, bestTimeScore, avgPerformanceScore, bestPerformanceScore, monthsBestTime]                                                                                                                                                                                                                                                                                \n",
       "1  [Age, Height, Weight, bmi, Year, Population, countryWins, subRegionWins, marathons, Gmarathons, Smarathons, Bmarathons, avgTime, bestTime, avgTimeScore, bestTimeScore, avgPosition, bestPosition, avgPositionScore, bestPositionScore, avgPerformanceScore, bestPerformanceScore, monthsBestTime, Africa, Asia, Europe, Latin America, Northern America, Oceania, NO homeadvantage, Home advantage]        \n",
       "2  [Age, Height, Weight, bmi, Year, Population, GDP, marathons, avgTime, bestTime, avgTimeScore, bestTimeScore, avgPosition, avgPerformanceScore, bestPerformanceScore, monthsBestTime]                                                                                                                                                                                                                        \n",
       "3  [avgTime, bestTime, avgTimeScore, Oceania]                                                                                                                                                                                                                                                                                                                                                                  \n",
       "4  [Age, Height, Weight, bmi, Year, Population, GDP, countryWins, subRegionWins, marathons, Gmarathons, Smarathons, Bmarathons, avgTime, bestTime, avgTimeScore, bestTimeScore, avgPosition, bestPosition, avgPositionScore, bestPositionScore, avgPerformanceScore, bestPerformanceScore, monthsBestTime, Africa, Asia, Europe, Latin America, Northern America, Oceania, NO homeadvantage, Home advantage]   \n",
       "\n",
       "       RMSE        Scaler            Selector  \n",
       "0  0.042598  preprocessor  RFE_RF_score        \n",
       "1  0.041699  preprocessor  varianceTH          \n",
       "2  0.042362  preprocessor  RFE_RF_Score        \n",
       "3  0.054187  preprocessor  PercentileSelector  \n",
       "4  0.043624  preprocessor  varianceTH          "
      ]
     },
     "execution_count": 87,
     "metadata": {},
     "output_type": "execute_result"
    }
   ],
   "source": [
    "import warnings\n",
    "warnings.filterwarnings('ignore')\n",
    "\n",
    "categoric_log_grids = []\n",
    "grid_selector = 0\n",
    "y = np.log(Mey_F.loc[:,\"TimeMins\"])\n",
    "\n",
    "MEX_continent_homeAdvantage = MeX_dummy_CF.iloc[:, -8:]\n",
    "full_data = pd.concat([MeX_NF, MEX_continent_homeAdvantage], axis=1)\n",
    "categorical_columns = full_data.columns[-8:]\n",
    "\n",
    "for model, model_name in zip(models, model_names):\n",
    "    best_score = 1000000000000\n",
    "    for selector, selector_name in zip(selectors, selectors_name):\n",
    "        for scaler, scaler_name in zip(scalers, scaler_names):\n",
    "            # pre-process PipeLines for numeric and categorical features\n",
    "            numeric_transformer = Pipeline(steps = [(scaler_name, scaler)])\n",
    "            categorical_transformer = Pipeline(steps = [(\"onehot\", None)])\n",
    "            preprocessor = ColumnTransformer(transformers=[('num', numeric_transformer, numeric_features),\n",
    "                                                           ('cat', \"passthrough\", categorical_columns)])\n",
    "\n",
    "            # GridSearch\n",
    "            pipe = Pipeline(steps=[('preprocessor', preprocessor), (selector_name,selector), (model_name, model)])\n",
    "            grid = GridSearchCV(pipe, param_grid=param_grids[grid_selector], cv=kf, scoring= \"neg_mean_squared_error\")\n",
    "            grid.fit(full_data, y)\n",
    "            output = abs(grid.best_score_ )\n",
    "            \n",
    "            if output < best_score:\n",
    "                best_score = output\n",
    "                best_grid = grid\n",
    "                \n",
    "    categoric_log_grids.append(best_grid)\n",
    "    grid_selector += 1\n",
    "TableCreator(categoric_log_grids, model_names, full_data.columns)"
   ]
  },
  {
   "cell_type": "code",
   "execution_count": 90,
   "metadata": {},
   "outputs": [
    {
     "data": {
      "text/html": [
       "<div>\n",
       "<style scoped>\n",
       "    .dataframe tbody tr th:only-of-type {\n",
       "        vertical-align: middle;\n",
       "    }\n",
       "\n",
       "    .dataframe tbody tr th {\n",
       "        vertical-align: top;\n",
       "    }\n",
       "\n",
       "    .dataframe thead th {\n",
       "        text-align: right;\n",
       "    }\n",
       "</style>\n",
       "<table border=\"1\" class=\"dataframe\">\n",
       "  <thead>\n",
       "    <tr style=\"text-align: right;\">\n",
       "      <th></th>\n",
       "      <th>modelName</th>\n",
       "      <th>modelParameter</th>\n",
       "      <th>features</th>\n",
       "      <th>MAE</th>\n",
       "      <th>Scaler</th>\n",
       "      <th>Selector</th>\n",
       "    </tr>\n",
       "  </thead>\n",
       "  <tbody>\n",
       "    <tr>\n",
       "      <th>0</th>\n",
       "      <td>lr</td>\n",
       "      <td>{}</td>\n",
       "      <td>[Age, Weight, bmi, Population, GDP, avgTime, bestTime, avgTimeScore, bestTimeScore, avgPerformanceScore, monthsBestTime]</td>\n",
       "      <td>0.181487</td>\n",
       "      <td>preprocessor</td>\n",
       "      <td>RFE_RF_score</td>\n",
       "    </tr>\n",
       "    <tr>\n",
       "      <th>1</th>\n",
       "      <td>ridge</td>\n",
       "      <td>{'ridge__alpha': 100}</td>\n",
       "      <td>[Age, Height, Weight, bmi, Year, Population, countryWins, subRegionWins, marathons, Gmarathons, Smarathons, Bmarathons, avgTime, bestTime, avgTimeScore, bestTimeScore, avgPosition, bestPosition, avgPositionScore, bestPositionScore, avgPerformanceScore, bestPerformanceScore, monthsBestTime, Africa, Asia, Europe, Latin America, Northern America, Oceania, NO homeadvantage, Home advantage]</td>\n",
       "      <td>0.181286</td>\n",
       "      <td>preprocessor</td>\n",
       "      <td>varianceTH</td>\n",
       "    </tr>\n",
       "    <tr>\n",
       "      <th>2</th>\n",
       "      <td>knn</td>\n",
       "      <td>{'knn__n_neighbors': 30}</td>\n",
       "      <td>[Age, Height, Weight, bmi, Year, Population, GDP, marathons, avgTime, bestTime, avgTimeScore, bestTimeScore, avgPosition, avgPerformanceScore, bestPerformanceScore, monthsBestTime]</td>\n",
       "      <td>0.182216</td>\n",
       "      <td>preprocessor</td>\n",
       "      <td>RFE_RF_Score</td>\n",
       "    </tr>\n",
       "    <tr>\n",
       "      <th>3</th>\n",
       "      <td>svr</td>\n",
       "      <td>{'svr__C': 0.001, 'svr__gamma': 0.001}</td>\n",
       "      <td>[avgTime, bestTime, avgTimeScore, Oceania]</td>\n",
       "      <td>0.216370</td>\n",
       "      <td>preprocessor</td>\n",
       "      <td>PercentileSelector</td>\n",
       "    </tr>\n",
       "    <tr>\n",
       "      <th>4</th>\n",
       "      <td>rf</td>\n",
       "      <td>{'rf__n_estimators': 200}</td>\n",
       "      <td>[Age, Height, Weight, bmi, Year, Population, GDP, countryWins, subRegionWins, marathons, Gmarathons, Smarathons, Bmarathons, avgTime, bestTime, avgTimeScore, bestTimeScore, avgPosition, bestPosition, avgPositionScore, bestPositionScore, avgPerformanceScore, bestPerformanceScore, monthsBestTime, Africa, Asia, Europe, Latin America, Northern America, Oceania, NO homeadvantage, Home advantage]</td>\n",
       "      <td>0.184066</td>\n",
       "      <td>preprocessor</td>\n",
       "      <td>varianceTH</td>\n",
       "    </tr>\n",
       "  </tbody>\n",
       "</table>\n",
       "</div>"
      ],
      "text/plain": [
       "  modelName                          modelParameter  \\\n",
       "0  lr        {}                                       \n",
       "1  ridge     {'ridge__alpha': 100}                    \n",
       "2  knn       {'knn__n_neighbors': 30}                 \n",
       "3  svr       {'svr__C': 0.001, 'svr__gamma': 0.001}   \n",
       "4  rf        {'rf__n_estimators': 200}                \n",
       "\n",
       "                                                                                                                                                                                                                                                                                                                                                                                                    features  \\\n",
       "0  [Age, Weight, bmi, Population, GDP, avgTime, bestTime, avgTimeScore, bestTimeScore, avgPerformanceScore, monthsBestTime]                                                                                                                                                                                                                                                                                    \n",
       "1  [Age, Height, Weight, bmi, Year, Population, countryWins, subRegionWins, marathons, Gmarathons, Smarathons, Bmarathons, avgTime, bestTime, avgTimeScore, bestTimeScore, avgPosition, bestPosition, avgPositionScore, bestPositionScore, avgPerformanceScore, bestPerformanceScore, monthsBestTime, Africa, Asia, Europe, Latin America, Northern America, Oceania, NO homeadvantage, Home advantage]        \n",
       "2  [Age, Height, Weight, bmi, Year, Population, GDP, marathons, avgTime, bestTime, avgTimeScore, bestTimeScore, avgPosition, avgPerformanceScore, bestPerformanceScore, monthsBestTime]                                                                                                                                                                                                                        \n",
       "3  [avgTime, bestTime, avgTimeScore, Oceania]                                                                                                                                                                                                                                                                                                                                                                  \n",
       "4  [Age, Height, Weight, bmi, Year, Population, GDP, countryWins, subRegionWins, marathons, Gmarathons, Smarathons, Bmarathons, avgTime, bestTime, avgTimeScore, bestTimeScore, avgPosition, bestPosition, avgPositionScore, bestPositionScore, avgPerformanceScore, bestPerformanceScore, monthsBestTime, Africa, Asia, Europe, Latin America, Northern America, Oceania, NO homeadvantage, Home advantage]   \n",
       "\n",
       "        MAE        Scaler            Selector  \n",
       "0  0.181487  preprocessor  RFE_RF_score        \n",
       "1  0.181286  preprocessor  varianceTH          \n",
       "2  0.182216  preprocessor  RFE_RF_Score        \n",
       "3  0.216370  preprocessor  PercentileSelector  \n",
       "4  0.184066  preprocessor  varianceTH          "
      ]
     },
     "execution_count": 90,
     "metadata": {},
     "output_type": "execute_result"
    }
   ],
   "source": [
    "import warnings\n",
    "warnings.filterwarnings('ignore')\n",
    "\n",
    "MAE_categoric_log_grids = []\n",
    "grid_selector = 0\n",
    "y = np.log(Mey_F.loc[:,\"TimeMins\"])\n",
    "\n",
    "MEX_continent_homeAdvantage = MeX_dummy_CF.iloc[:, -8:]\n",
    "full_data = pd.concat([MeX_NF, MEX_continent_homeAdvantage], axis=1)\n",
    "categorical_columns = full_data.columns[-8:]\n",
    "\n",
    "for model, model_name in zip(models, model_names):\n",
    "    best_score = 1000000000000\n",
    "    for selector, selector_name in zip(selectors, selectors_name):\n",
    "        for scaler, scaler_name in zip(scalers, scaler_names):\n",
    "            # pre-process PipeLines for numeric and categorical features\n",
    "            numeric_transformer = Pipeline(steps = [(scaler_name, scaler)])\n",
    "            categorical_transformer = Pipeline(steps = [(\"onehot\", None)])\n",
    "            preprocessor = ColumnTransformer(transformers=[('num', numeric_transformer, numeric_features),\n",
    "                                                           ('cat', \"passthrough\", categorical_columns)])\n",
    "\n",
    "            # GridSearch\n",
    "            pipe = Pipeline(steps=[('preprocessor', preprocessor), (selector_name,selector), (model_name, model)])\n",
    "            grid = GridSearchCV(pipe, param_grid=param_grids[grid_selector], cv=kf, scoring= \"neg_mean_absolute_error\")\n",
    "            grid.fit(full_data, y)\n",
    "            output = abs(grid.best_score_ )\n",
    "            \n",
    "            if output < best_score:\n",
    "                best_score = output\n",
    "                best_grid = grid\n",
    "                \n",
    "    MAE_categoric_log_grids.append(best_grid)\n",
    "    grid_selector += 1\n",
    "TableCreator(MAE_categoric_log_grids, model_names, full_data.columns, True)"
   ]
  },
  {
   "cell_type": "markdown",
   "metadata": {},
   "source": [
    "### Model Insights"
   ]
  },
  {
   "cell_type": "markdown",
   "metadata": {},
   "source": [
    "**Coefficients and intercept of the Linear regression**"
   ]
  },
  {
   "cell_type": "code",
   "execution_count": 10,
   "metadata": {},
   "outputs": [
    {
     "name": "stdout",
     "output_type": "stream",
     "text": [
      "The features are:\n",
      " ['Age', 'Weight', 'bmi', 'Population', 'avgTimeScore', 'bestTimeScore', 'avgPerformanceScore'] \n",
      "\n",
      " With coefficients: \n",
      " [0.32578712337853544, -0.5062895122670763, 0.8132165684096506, -1.1060797110429672, -3.6549292882239404, -1.5327230778970486, 1.0621887518904616]\n"
     ]
    }
   ],
   "source": [
    "print(modelExtractor(\"lr\", grids))"
   ]
  },
  {
   "cell_type": "code",
   "execution_count": 11,
   "metadata": {},
   "outputs": [
    {
     "name": "stdout",
     "output_type": "stream",
     "text": [
      "The features are:\n",
      " ['Age', 'Weight', 'bmi', 'Year', 'Population', 'countryWins', 'avgTimeScore', 'bestTimeScore', 'avgPosition', 'avgPerformanceScore', 'bestPerformanceScore', 'monthsBestTime'] \n",
      "\n",
      " With coefficients: \n",
      " [0.002245084194894853, -0.00471612144089575, 0.0054525361703397866, -0.0012263292057315513, -0.0067098905709428456, -0.0060789857051904836, -0.0062574743088226, 0.0074597508307014835, -0.012970758363556873, -0.019492754341703653, -0.015227148982297899, 0.002518207120368468]\n"
     ]
    }
   ],
   "source": [
    "print(modelExtractor(\"lr\", log_grids))"
   ]
  },
  {
   "cell_type": "code",
   "execution_count": 91,
   "metadata": {},
   "outputs": [
    {
     "name": "stdout",
     "output_type": "stream",
     "text": [
      "The features are:\n",
      " ['Age', 'Weight', 'bmi', 'Year', 'Population', 'avgTimeScore', 'bestTimeScore', 'avgPerformanceScore', 'bestPerformanceScore', 'monthsBestTime'] \n",
      "\n",
      " With coefficients: \n",
      " [0.002256911184350107, -0.003489999095509746, 0.005574748725250358, 0.000947768077274942, -0.0075145055291419354, -0.03532128485784231, 0.005499793380291795, 0.01833903215588408, -0.018123150706539495, 0.0017285566133097862]\n"
     ]
    }
   ],
   "source": [
    "# Categoric\n",
    "cg = categoric_log_grids[0]\n",
    "names = list(cg.best_estimator_.named_steps.keys())\n",
    "best_iteration = cg.best_estimator_\n",
    "features = list(full_data.columns[best_iteration.named_steps[names[1]].get_support()])\n",
    "coefficients = list(cg.best_estimator_.named_steps[\"lr\"].coef_)\n",
    "print(\"The features are:\\n {} \\n\\n With coefficients: \\n {}\".format(features, coefficients))"
   ]
  },
  {
   "cell_type": "code",
   "execution_count": 69,
   "metadata": {},
   "outputs": [],
   "source": [
    "# Categoric\n",
    "cg = categoric_grids[0]\n",
    "names = list(cg.best_estimator_.named_steps.keys())\n",
    "best_iteration = cg.best_estimator_\n",
    "features = list(full_data.columns[best_iteration.named_steps[names[1]].get_support()])\n",
    "coefficients = list(cg.best_estimator_.named_steps[\"lr\"].coef_)\n",
    "print(\"The features are:\\n {} \\n\\n With coefficients: \\n {}\".format(features, coefficients))"
   ]
  },
  {
   "cell_type": "markdown",
   "metadata": {},
   "source": [
    "**Coefficients and intercept of the Ridge regression**"
   ]
  },
  {
   "cell_type": "code",
   "execution_count": 13,
   "metadata": {},
   "outputs": [
    {
     "name": "stdout",
     "output_type": "stream",
     "text": [
      "The features are:\n",
      " ['Age', 'Height', 'Weight', 'bmi', 'Year', 'Population', 'avgTimeScore', 'bestTimeScore', 'avgPositionScore', 'avgPerformanceScore', 'bestPerformanceScore', 'monthsBestTime'] \n",
      "\n",
      " With coefficients: \n",
      " [0.24952138167885415, -0.41351940205957943, -0.0167744303835423, 0.4164076834395507, 0.053047057203550935, -0.983322191228252, -1.386774615139222, -0.9931764429755323, 0.7114615340383571, -0.9878637507212711, -1.0097819429581583, 0.20945271455729803]\n"
     ]
    }
   ],
   "source": [
    "print(modelExtractor(\"ridge\", grids))"
   ]
  },
  {
   "cell_type": "code",
   "execution_count": 14,
   "metadata": {},
   "outputs": [
    {
     "name": "stdout",
     "output_type": "stream",
     "text": [
      "The features are:\n",
      " ['Age', 'Height', 'Weight', 'bmi', 'Year', 'Population', 'countryWins', 'subRegionWins', 'marathons', 'Gmarathons', 'Smarathons', 'Bmarathons', 'avgTime', 'bestTime', 'avgTimeScore', 'bestTimeScore', 'avgPosition', 'bestPosition', 'avgPositionScore', 'bestPositionScore', 'avgPerformanceScore', 'bestPerformanceScore', 'monthsBestTime'] \n",
      "\n",
      " With coefficients: \n",
      " [0.001794817849450127, -0.002755565469214032, -0.0002815216829743332, 0.0025633615338008908, -0.0007797692582232402, -0.005717633217489188, -0.0045066884273503695, -0.0018865383275021947, -0.0023743334530421695, 0.0011686585776160276, 0.0006402341471002008, 0.0028856111632202083, 0.005728197658243275, 0.004224321725273834, -0.005840437382984729, -0.0027128269605560104, -0.00253258612537226, -0.00023591478655244898, 0.001971573580852371, 0.0003711357929315318, -0.0051273461332068514, -0.004751715672843222, 0.0015446328981850684]\n"
     ]
    }
   ],
   "source": [
    "print(modelExtractor(\"ridge\", log_grids))"
   ]
  },
  {
   "cell_type": "code",
   "execution_count": 72,
   "metadata": {},
   "outputs": [
    {
     "name": "stdout",
     "output_type": "stream",
     "text": [
      "The features are:\n",
      " ['Age', 'Height', 'Weight', 'bmi', 'Year', 'Population', 'countryWins', 'subRegionWins', 'marathons', 'Gmarathons', 'Smarathons', 'Bmarathons', 'avgTime', 'bestTime', 'avgTimeScore', 'bestTimeScore', 'avgPosition', 'bestPosition', 'avgPositionScore', 'bestPositionScore', 'avgPerformanceScore', 'bestPerformanceScore', 'monthsBestTime', 'Africa', 'Asia', 'Europe', 'Latin America', 'Northern America', 'Oceania', 'NO homeadvantage', 'Home advantage'] \n",
      "\n",
      " With coefficients: \n",
      " [0.2647367949740957, -0.33385204681604996, 0.004031341022590188, 0.35309608761882283, -0.12312227608138097, -0.9353863696409553, -0.6136854782051676, -0.19467762733084273, -0.3455370826926318, 0.190743415319644, 0.042077436505928344, 0.397066656137098, 0.8224795778056704, 0.6474979279686708, -0.8000299883129451, -0.38291303337885507, -0.36730750060203327, -0.03946621842068503, 0.2829209130787791, 0.05749480694941483, -0.6948769034407449, -0.6616447600947495, 0.2242122061832858, -0.1855815574787667, 0.5924240861400624, -0.27855732823328727, 0.43819246177246834, -0.2771503249067798, -0.2893273372936954, 0.15046398616742096, -0.1504639861674213]\n"
     ]
    }
   ],
   "source": [
    "# Categoric\n",
    "cg = categoric_grids[1]\n",
    "names = list(cg.best_estimator_.named_steps.keys())\n",
    "best_iteration = cg.best_estimator_\n",
    "features = list(full_data.columns[best_iteration.named_steps[names[1]].get_support()])\n",
    "coefficients = list(cg.best_estimator_.named_steps[\"ridge\"].coef_)\n",
    "print(\"The features are:\\n {} \\n\\n With coefficients: \\n {}\".format(features, coefficients))"
   ]
  },
  {
   "cell_type": "code",
   "execution_count": 93,
   "metadata": {},
   "outputs": [
    {
     "name": "stdout",
     "output_type": "stream",
     "text": [
      "The features are:\n",
      " ['Age', 'Height', 'Weight', 'bmi', 'Year', 'Population', 'countryWins', 'subRegionWins', 'marathons', 'Gmarathons', 'Smarathons', 'Bmarathons', 'avgTime', 'bestTime', 'avgTimeScore', 'bestTimeScore', 'avgPosition', 'bestPosition', 'avgPositionScore', 'bestPositionScore', 'avgPerformanceScore', 'bestPerformanceScore', 'monthsBestTime', 'Africa', 'Asia', 'Europe', 'Latin America', 'Northern America', 'Oceania', 'NO homeadvantage', 'Home advantage'] \n",
      "\n",
      " With coefficients: \n",
      " [0.0019460246157064981, -0.0022294327452238773, 1.6480775384949476e-05, 0.0023745467552013545, -0.0009864494596029281, -0.006273515352390775, -0.0045544456734816045, -0.0013071823690244382, -0.0025017529585050083, 0.0013971508342219875, 0.00026424450204833825, 0.002884443221769774, 0.005653735508671901, 0.004235426540439217, -0.005708826948673002, -0.002729901668561018, -0.0024165534762681166, -0.0002967628253925889, 0.0019183182446849223, 0.0004300468649860906, -0.004981852736474426, -0.004616014994405497, 0.0014899976777279012, -0.0013110028216072925, 0.004077777290835166, -0.0017628376508859668, 0.0030601353528309015, -0.002056006741012237, -0.0020080654301605667, 0.0009994048583640413, -0.0009994048583640434]\n"
     ]
    }
   ],
   "source": [
    "cg = categoric_log_grids[1]\n",
    "names = list(cg.best_estimator_.named_steps.keys())\n",
    "best_iteration = cg.best_estimator_\n",
    "features = list(full_data.columns[best_iteration.named_steps[names[1]].get_support()])\n",
    "coefficients = list(cg.best_estimator_.named_steps[\"ridge\"].coef_)\n",
    "print(\"The features are:\\n {} \\n\\n With coefficients: \\n {}\".format(features, coefficients))"
   ]
  },
  {
   "cell_type": "markdown",
   "metadata": {},
   "source": [
    "**Coefficients of the SVM-regressor**"
   ]
  },
  {
   "cell_type": "code",
   "execution_count": 16,
   "metadata": {},
   "outputs": [
    {
     "name": "stdout",
     "output_type": "stream",
     "text": [
      "The features are:\n",
      " ['Age', 'Height', 'Weight', 'bmi', 'Year', 'Population', 'avgTimeScore', 'bestTimeScore', 'avgPositionScore', 'avgPerformanceScore', 'bestPerformanceScore', 'monthsBestTime'] \n",
      "\n",
      " With coefficients: \n",
      " [array([ 0.32549039, -0.244238  , -0.10853989,  0.14613133,  0.02005745,\n",
      "       -0.88222621, -1.37078808, -0.92050198,  0.47445736, -1.0095212 ,\n",
      "       -0.98603977, -0.02855429])]\n"
     ]
    }
   ],
   "source": [
    "print(modelExtractor(\"svm\", grids))"
   ]
  },
  {
   "cell_type": "code",
   "execution_count": 17,
   "metadata": {},
   "outputs": [
    {
     "name": "stdout",
     "output_type": "stream",
     "text": [
      "The features are:\n",
      " ['Age', 'bmi', 'Population', 'GDP', 'avgTime', 'bestTime', 'avgTimeScore', 'bestTimeScore'] \n",
      "\n",
      " With coefficients: \n",
      " [array([ 0.00152703,  0.0027892 , -0.00199421,  0.00050906,  0.00364417,\n",
      "        0.00326675, -0.0045798 , -0.00427982])]\n"
     ]
    }
   ],
   "source": [
    "print(modelExtractor(\"svm\", log_grids))"
   ]
  },
  {
   "cell_type": "code",
   "execution_count": 80,
   "metadata": {},
   "outputs": [
    {
     "name": "stdout",
     "output_type": "stream",
     "text": [
      "The features are:\n",
      " ['Age', 'Height', 'Weight', 'bmi', 'Year', 'Population', 'countryWins', 'subRegionWins', 'marathons', 'Gmarathons', 'Smarathons', 'Bmarathons', 'avgTime', 'bestTime', 'avgTimeScore', 'bestTimeScore', 'avgPosition', 'bestPosition', 'avgPositionScore', 'bestPositionScore', 'avgPerformanceScore', 'bestPerformanceScore', 'monthsBestTime', 'Africa', 'Asia', 'Europe', 'Latin America', 'Northern America', 'Oceania', 'NO homeadvantage', 'Home advantage'] \n",
      "\n",
      " With coefficients: \n",
      " [array([ 0.65563282,  0.24282226, -0.00933568,  0.05845766, -0.13933201,\n",
      "       -1.03492143, -0.57924365, -0.01877973, -1.38243368,  0.79681817,\n",
      "       -0.23963916,  0.72574001,  1.8353584 ,  2.13949889, -0.76621735,\n",
      "        2.12315154, -1.11663538,  0.36269954, -0.33583602,  0.50012102,\n",
      "       -1.18075792, -0.504496  ,  0.24840878,  0.32018463,  1.58937267,\n",
      "       -0.608027  ,  0.90448368, -0.82031965, -1.38569434,  0.83525039,\n",
      "       -0.83525039])]\n"
     ]
    }
   ],
   "source": [
    "cg = categoric_grids[3]\n",
    "names = list(cg.best_estimator_.named_steps.keys())\n",
    "best_iteration = cg.best_estimator_\n",
    "features = list(full_data.columns[best_iteration.named_steps[names[1]].get_support()])\n",
    "coefficients = list(cg.best_estimator_.named_steps[\"svr\"].coef_)\n",
    "print(\"The features are:\\n {} \\n\\n With coefficients: \\n {}\".format(features, coefficients))"
   ]
  },
  {
   "cell_type": "code",
   "execution_count": 94,
   "metadata": {},
   "outputs": [
    {
     "name": "stdout",
     "output_type": "stream",
     "text": [
      "The features are:\n",
      " ['avgTime', 'bestTime', 'avgTimeScore', 'Oceania'] \n",
      "\n",
      " With coefficients: \n",
      " [array([ 0.00636101,  0.0051177 , -0.00709445,  0.        ])]\n"
     ]
    }
   ],
   "source": [
    "cg = categoric_log_grids[3]\n",
    "names = list(cg.best_estimator_.named_steps.keys())\n",
    "best_iteration = cg.best_estimator_\n",
    "features = list(full_data.columns[best_iteration.named_steps[names[1]].get_support()])\n",
    "coefficients = list(cg.best_estimator_.named_steps[\"svr\"].coef_)\n",
    "print(\"The features are:\\n {} \\n\\n With coefficients: \\n {}\".format(features, coefficients))"
   ]
  },
  {
   "cell_type": "markdown",
   "metadata": {},
   "source": [
    "**Feature Importance of the RF**"
   ]
  },
  {
   "cell_type": "code",
   "execution_count": 19,
   "metadata": {},
   "outputs": [
    {
     "name": "stdout",
     "output_type": "stream",
     "text": [
      "The features are:\n",
      " ['Age', 'Weight', 'bmi', 'Population', 'GDP', 'avgTime', 'bestTime', 'avgTimeScore', 'bestTimeScore', 'avgPerformanceScore', 'bestPerformanceScore', 'monthsBestTime'] \n",
      "\n",
      " With importances: \n",
      " [0.0578544594392983, 0.03953347927347259, 0.060682866291493116, 0.07778564575461953, 0.0747109467130845, 0.10782560105069294, 0.18822793140032243, 0.11402366828828342, 0.11838991341084838, 0.06452616199041376, 0.046635992314861346, 0.049803334072609534]\n"
     ]
    }
   ],
   "source": [
    "print(modelExtractor(\"rf\", grids))"
   ]
  },
  {
   "cell_type": "code",
   "execution_count": 20,
   "metadata": {},
   "outputs": [
    {
     "name": "stdout",
     "output_type": "stream",
     "text": [
      "The features are:\n",
      " ['Age', 'Height', 'Weight', 'bmi', 'Year', 'Population', 'GDP', 'countryWins', 'subRegionWins', 'marathons', 'Gmarathons', 'Smarathons', 'Bmarathons', 'avgTime', 'bestTime', 'avgTimeScore', 'bestTimeScore', 'avgPosition', 'bestPosition', 'avgPositionScore', 'bestPositionScore', 'avgPerformanceScore', 'bestPerformanceScore', 'monthsBestTime'] \n",
      "\n",
      " With importances: \n",
      " [0.035490888400011626, 0.028467109764621572, 0.02719842191933838, 0.04030158042411059, 0.027606076866852045, 0.05101184960214191, 0.05410019710948614, 0.020614404268244135, 0.012345978300299754, 0.02451773791626808, 0.012817581836952087, 0.01293545803910774, 0.005691315504323929, 0.11426767477822192, 0.16016709467674373, 0.10297903074777398, 0.10120748898853212, 0.02515196738426797, 0.00286605111350028, 0.019584152209304158, 0.002959175904068853, 0.04040832427580774, 0.037503298098964584, 0.03980714187105664]\n"
     ]
    }
   ],
   "source": [
    "print(modelExtractor(\"rf\", log_grids))"
   ]
  },
  {
   "cell_type": "code",
   "execution_count": 95,
   "metadata": {},
   "outputs": [
    {
     "name": "stdout",
     "output_type": "stream",
     "text": [
      "The features are:\n",
      " ['Age', 'Height', 'Weight', 'bmi', 'Year', 'Population', 'GDP', 'countryWins', 'subRegionWins', 'marathons', 'Gmarathons', 'Smarathons', 'Bmarathons', 'avgTime', 'bestTime', 'avgTimeScore', 'bestTimeScore', 'avgPosition', 'bestPosition', 'avgPositionScore', 'bestPositionScore', 'avgPerformanceScore', 'bestPerformanceScore', 'monthsBestTime', 'Africa', 'Asia', 'Europe', 'Latin America', 'Northern America', 'Oceania', 'NO homeadvantage', 'Home advantage'] \n",
      "\n",
      " With coefficients: \n",
      " [0.037093363751849545, 0.02833758823288325, 0.025003800559943494, 0.038786988904410416, 0.02874874836203259, 0.05047876830439417, 0.05074615238986329, 0.021840891959146642, 0.010830392014492882, 0.02399673139156584, 0.011348963439921162, 0.015377340004620498, 0.0059406830451219726, 0.10544594577009377, 0.18854836735606273, 0.09980624994025597, 0.08361506649906912, 0.019120080368367823, 0.0028163525592127575, 0.018337055481453653, 0.0026553599951350463, 0.03975562126257547, 0.035910467239616266, 0.04032384019523768, 0.001823325756954122, 0.004208503348850194, 0.003012977487452659, 0.003469985105725259, 0.0015953521212337424, 0.000559047487012533, 0.00024586746001142005, 0.00022012220543393872]\n"
     ]
    }
   ],
   "source": [
    "cg = categoric_log_grids[4]\n",
    "names = list(cg.best_estimator_.named_steps.keys())\n",
    "best_iteration = cg.best_estimator_\n",
    "features = list(full_data.columns[best_iteration.named_steps[names[1]].get_support()])\n",
    "coefficients = list(cg.best_estimator_.named_steps[\"rf\"].feature_importances_)\n",
    "print(\"The features are:\\n {} \\n\\n With coefficients: \\n {}\".format(features, coefficients))"
   ]
  },
  {
   "cell_type": "code",
   "execution_count": null,
   "metadata": {},
   "outputs": [],
   "source": [
    "cg = categoric_grids[4]\n",
    "names = list(cg.best_estimator_.named_steps.keys())\n",
    "best_iteration = cg.best_estimator_\n",
    "features = list(full_data.columns[best_iteration.named_steps[names[1]].get_support()])\n",
    "coefficients = list(cg.best_estimator_.named_steps[\"rf\"].feature_importances_)\n",
    "print(\"The features are:\\n {} \\n\\n With coefficients: \\n {}\".format(features, coefficients))"
   ]
  },
  {
   "cell_type": "markdown",
   "metadata": {},
   "source": [
    "### Grids and tables"
   ]
  },
  {
   "cell_type": "code",
   "execution_count": 55,
   "metadata": {},
   "outputs": [],
   "source": [
    "RMSE_grids = [grids, log_grids, categoric_grids]\n",
    "MAE_gridss = [MAE_grids, MAE_log_grids, MAE_categoric_grids]"
   ]
  },
  {
   "cell_type": "code",
   "execution_count": 25,
   "metadata": {},
   "outputs": [],
   "source": [
    "#rmse tables\n",
    "grids_table = TableCreator(grids, model_names, MeX_NF.columns)\n",
    "log_table = TableCreator(log_grids, model_names, MeX_NF.columns)\n",
    "categoric_table = TableCreator(categoric_grids, model_names, full_data.columns)\n",
    "\n",
    "RMSE_tables = [grids_table, log_table, categoric_table]"
   ]
  },
  {
   "cell_type": "code",
   "execution_count": 56,
   "metadata": {},
   "outputs": [],
   "source": [
    "#MAE tables\n",
    "MAE_grids_table = TableCreator(MAE_grids, model_names, MeX_NF.columns, True)\n",
    "MAE_log_table = TableCreator(MAE_log_grids, model_names, MeX_NF.columns, True)\n",
    "MAE_categoric_table = TableCreator(MAE_categoric_grids, model_names, full_data.columns, True)"
   ]
  }
 ],
 "metadata": {
  "kernelspec": {
   "display_name": "Python 3",
   "language": "python",
   "name": "python3"
  },
  "language_info": {
   "codemirror_mode": {
    "name": "ipython",
    "version": 3
   },
   "file_extension": ".py",
   "mimetype": "text/x-python",
   "name": "python",
   "nbconvert_exporter": "python",
   "pygments_lexer": "ipython3",
   "version": "3.7.3"
  }
 },
 "nbformat": 4,
 "nbformat_minor": 2
}
