{
 "cells": [
  {
   "cell_type": "markdown",
   "metadata": {},
   "source": [
    "### Library import"
   ]
  },
  {
   "cell_type": "code",
   "execution_count": 1,
   "metadata": {},
   "outputs": [],
   "source": [
    "import warnings\n",
    "warnings.filterwarnings('ignore')"
   ]
  },
  {
   "cell_type": "code",
   "execution_count": 2,
   "metadata": {},
   "outputs": [],
   "source": [
    "import pandas as pd\n",
    "import numpy as np\n",
    "import statistics\n",
    "import math\n",
    "from sklearn.pipeline import Pipeline, make_pipeline\n",
    "from sklearn.preprocessing import MinMaxScaler, StandardScaler, Normalizer, Binarizer, PowerTransformer, RobustScaler\n",
    "from sklearn.preprocessing import PolynomialFeatures\n",
    "from sklearn.linear_model import LinearRegression, LassoCV\n",
    "from sklearn.neighbors import KNeighborsRegressor\n",
    "from sklearn.ensemble import RandomForestRegressor\n",
    "from sklearn.feature_selection import SelectPercentile, SelectFromModel, RFE\n",
    "from sklearn.model_selection import train_test_split, KFold, cross_val_score, GridSearchCV\n",
    "from sklearn.metrics import mean_squared_error"
   ]
  },
  {
   "cell_type": "markdown",
   "metadata": {},
   "source": [
    "### Functions"
   ]
  },
  {
   "cell_type": "code",
   "execution_count": 3,
   "metadata": {},
   "outputs": [],
   "source": [
    "# summarizes the output of a cross-validated mse array\n",
    "def MSE_summarizer(array):\n",
    "    return math.sqrt(statistics.mean(abs(array)))"
   ]
  },
  {
   "cell_type": "markdown",
   "metadata": {},
   "source": [
    "###  Data "
   ]
  },
  {
   "cell_type": "markdown",
   "metadata": {},
   "source": [
    "**Import the data**"
   ]
  },
  {
   "cell_type": "code",
   "execution_count": 4,
   "metadata": {},
   "outputs": [],
   "source": [
    "path = r\"C:\\Users\\BrechtDewilde\\Documents\\Github\\Predicting-the-olympic-games\\marathon\\Data c&c\\R\\Data\\output\"\n",
    "Me = pd.read_csv(path + \"\\marathonM_extended.csv\")\n",
    "Fe = pd.read_csv(path + \"\\marathonF_extended.csv\")"
   ]
  },
  {
   "cell_type": "markdown",
   "metadata": {},
   "source": [
    "**Subsetting the features and dummy coding the categoric features**"
   ]
  },
  {
   "cell_type": "code",
   "execution_count": 5,
   "metadata": {},
   "outputs": [],
   "source": [
    "amountFeatures = Me.shape[1]\n",
    "\n",
    "# Feature division\n",
    "numeric_features = ['Age', 'Height', 'Weight', 'bmi', 'Year', 'Population', 'GDP',\n",
    "       'countryWins', 'subRegionWins', 'marathons', 'Gmarathons', 'Smarathons', 'Bmarathons', 'avgTime', 'bestTime',\n",
    "       'avgTimeScore', 'bestTimeScore', 'avgPosition', 'bestPosition', 'avgPositionScore', 'bestPositionScore', 'avgPerformanceScore',\n",
    "       'bestPerformanceScore', 'monthsBestTime']\n",
    "\n",
    "categoric_features = ['Nationality', 'SubRegion', 'continent', 'HomeAdvantage']\n",
    "\n",
    "target_features = [\"Position\", \"TimeMins\", \"TimeSecs\"]\n",
    "\n",
    "# X subsetting\n",
    "MeX_NF = Me.loc[:, numeric_features]\n",
    "MeX_CF = Me.loc[:, categoric_features]\n",
    "Mey_F = Me.loc[:, target_features]\n",
    "\n",
    "# Dummy coding\n",
    "temp = pd.get_dummies(MeX_CF, columns = categoric_features)\n",
    "MeX_dummy_CF = temp.rename(columns = {'continent_Africa':\"Africa\", 'continent_Asia':'Asia', 'continent_Europe':\"Europe\",\n",
    "       'continent_Latin America and the Caribbean':\"Latin America\", 'continent_Northern America': \"Northern America\",\n",
    "        'continent_Oceania':\"Oceania\", 'HomeAdvantage_False':\"NO homeadvantage\", 'HomeAdvantage_True':\"Home advantage\"})"
   ]
  },
  {
   "cell_type": "markdown",
   "metadata": {},
   "source": [
    "### Model comparison"
   ]
  },
  {
   "cell_type": "code",
   "execution_count": 6,
   "metadata": {},
   "outputs": [],
   "source": [
    "models = [LinearRegression(), KNeighborsRegressor(), RandomForestRegressor()]\n",
    "kf = KFold(n_splits=5, random_state=1234, shuffle=True)"
   ]
  },
  {
   "cell_type": "markdown",
   "metadata": {},
   "source": [
    "**Only numeric features** <br/> No pre-preprocessing/FeatureEngineering/Parameter tuning"
   ]
  },
  {
   "cell_type": "code",
   "execution_count": null,
   "metadata": {},
   "outputs": [],
   "source": [
    "lr = MSE_summarizer(cross_val_score(LinearRegression(), MeX_NF, Mey_F.loc[:,\"TimeMins\"], cv=kf, scoring = \"neg_mean_squared_error\"))\n",
    "knn = MSE_summarizer(cross_val_score(KNeighborsRegressor(), MeX_NF, Mey_F.loc[:,\"TimeMins\"], cv=kf, scoring = \"neg_mean_squared_error\"))\n",
    "rf = MSE_summarizer(cross_val_score(RandomForestRegressor(), MeX_NF, Mey_F.loc[:,\"TimeMins\"], cv=kf, scoring = \"neg_mean_squared_error\"))\n",
    "results = pd.DataFrame({\"Model\":[\"LR\", \"KNN\", \"RF\"], \"score\": [lr, knn, rf]})\n",
    "results"
   ]
  },
  {
   "cell_type": "markdown",
   "metadata": {},
   "source": [
    "**pre-processing**"
   ]
  },
  {
   "cell_type": "code",
   "execution_count": 15,
   "metadata": {},
   "outputs": [],
   "source": [
    "scalers = [MinMaxScaler(), StandardScaler(), RobustScaler(), PowerTransformer(), Normalizer(), Binarizer()] \n",
    "scaler_names = [\"MinMax\",\"standard\", \"robust\", \"power\", \"normalizer\", \"binarizer\"]"
   ]
  },
  {
   "cell_type": "code",
   "execution_count": null,
   "metadata": {},
   "outputs": [],
   "source": [
    "best_scores = []\n",
    "best_scalers = []\n",
    "\n",
    "for model in models:\n",
    "    best_score = 1000000000000\n",
    "    best_scaler = \"\"\n",
    "    for scaler, scaler_name in zip(scalers, scaler_names):\n",
    "        pipe = make_pipeline(scaler, model)\n",
    "        output = MSE_summarizer(cross_val_score(pipe, MeX_NF, Mey_F.loc[:,\"TimeMins\"], cv=kf,\n",
    "                                                scoring= \"neg_mean_squared_error\"))\n",
    "        if output < best_score:\n",
    "            best_score = output\n",
    "            best_scaler = scaler_name\n",
    "    best_scores.append(best_score)\n",
    "    best_scalers.append(best_scaler)\n",
    "results = pd.DataFrame({\"Model\":[\"LR\", \"KNN\", \"RF\"], \"Score\": best_scores, \"Scaler\": best_scalers})\n",
    "results"
   ]
  },
  {
   "cell_type": "markdown",
   "metadata": {},
   "source": [
    "**FeatureEngineering** <br/> Polynomial "
   ]
  },
  {
   "cell_type": "code",
   "execution_count": null,
   "metadata": {},
   "outputs": [],
   "source": [
    "best_scores = []\n",
    "best_scalers = []\n",
    "for model in models:\n",
    "    best_score = 1000000000000\n",
    "    best_scaler = \"\"\n",
    "    for scaler, scaler_name in zip(scalers, scaler_names):\n",
    "        pipe = make_pipeline(scaler, PolynomialFeatures(), model)\n",
    "        output = MSE_summarizer(cross_val_score(pipe, MeX_NF, Mey_F.loc[:,\"TimeMins\"], \n",
    "                                                cv=kf, scoring= \"neg_mean_squared_error\"))\n",
    "        if output < best_score:\n",
    "            best_score = output\n",
    "            best_scaler = scaler_name\n",
    "    best_scores.append(best_score)\n",
    "    best_scalers.append(best_scaler)\n",
    "results = pd.DataFrame({\"Model\":[\"LR\", \"KNN\", \"RF\"], \"Score\": best_scores, \"Scaler\": best_scalers})\n",
    "results  "
   ]
  },
  {
   "cell_type": "markdown",
   "metadata": {},
   "source": [
    "Interaction Terms"
   ]
  },
  {
   "cell_type": "code",
   "execution_count": null,
   "metadata": {},
   "outputs": [],
   "source": [
    "best_scores = []\n",
    "best_scalers = []\n",
    "for model in models:\n",
    "    best_score = 1000000000000\n",
    "    best_scaler = \"\"\n",
    "    for scaler, scaler_name in zip(scalers, scaler_names):\n",
    "        pipe = make_pipeline(scaler, PolynomialFeatures(interaction_only=True,include_bias = False), model)\n",
    "        output = MSE_summarizer(cross_val_score(pipe, MeX_NF, Mey_F.loc[:,\"TimeMins\"], \n",
    "                                                cv=kf, scoring= \"neg_mean_squared_error\"))\n",
    "        if output < best_score:\n",
    "            best_score = output\n",
    "            best_scaler = scaler_name\n",
    "    best_scores.append(best_score)\n",
    "    best_scalers.append(best_scaler)\n",
    "results = pd.DataFrame({\"Model\":[\"LR\", \"KNN\", \"RF\"], \"Score\": best_scores, \"Scaler\": best_scalers})\n",
    "results  "
   ]
  },
  {
   "cell_type": "markdown",
   "metadata": {},
   "source": [
    "**ParameterTuning**"
   ]
  },
  {
   "cell_type": "code",
   "execution_count": 8,
   "metadata": {},
   "outputs": [],
   "source": [
    "knn_grid = {\"knn__n_neighbors\":[1,5,20,30,50,100,200]} \n",
    "RF_grid = {\"rf__n_estimators\":[100,200,300]}\n",
    "param_grids = [None, knn_grid, RF_grid]\n",
    "model_names = [\"lr\", \"knn\", \"rf\"]"
   ]
  },
  {
   "cell_type": "code",
   "execution_count": null,
   "metadata": {},
   "outputs": [],
   "source": [
    "import warnings\n",
    "warnings.filterwarnings('ignore')"
   ]
  },
  {
   "cell_type": "code",
   "execution_count": null,
   "metadata": {},
   "outputs": [],
   "source": [
    "best_scores = []\n",
    "best_scalers = []\n",
    "best_parameters = []\n",
    "grid_selector = 0\n",
    "\n",
    "for model, model_name in zip(models, model_names):\n",
    "    best_score = 1000000000000\n",
    "    \n",
    "    for scaler, scaler_name in zip(scalers, scaler_names):\n",
    "        if grid_selector == 0:\n",
    "            pipe = make_pipeline(scaler, model)\n",
    "            output = MSE_summarizer(cross_val_score(pipe, MeX_NF, Mey_F.loc[:,\"TimeMins\"], cv=kf, \n",
    "                                                    scoring= \"neg_mean_squared_error\"))\n",
    "            if output < best_score:\n",
    "                best_score = output\n",
    "                best_scaler = scaler_name\n",
    "                best_param = \"\"\n",
    "                \n",
    "        else:\n",
    "            pipe = Pipeline([(scaler_name,scaler), (model_name, model)])\n",
    "            grid = GridSearchCV(pipe, param_grid=param_grids[grid_selector],  cv=kf, \n",
    "                                scoring= \"neg_mean_squared_error\")\n",
    "            grid.fit(MeX_NF, Mey_F.loc[:,\"TimeMins\"])\n",
    "            output = math.sqrt(abs(grid.best_score_ ))\n",
    "            if output < best_score:\n",
    "                best_score = output\n",
    "                best_scaler = scaler_name\n",
    "                best_param = grid.best_params_\n",
    "    \n",
    "    best_scores.append(best_score)\n",
    "    best_scalers.append(best_scaler)\n",
    "    best_parameters.append(best_param)\n",
    "    \n",
    "    grid_selector += 1\n",
    "    \n",
    "results = pd.DataFrame({\"Model\":[\"LR\", \"KNN\", \"RF\"], \"score\": best_scores, \"Scaler\": best_scalers, \"params\":best_parameters})\n",
    "results  "
   ]
  },
  {
   "cell_type": "markdown",
   "metadata": {},
   "source": [
    "**Feature Selection** <br/> °FeatureSelection: SelectPercentile <br/> °ModelSelection:RandomForestClassifier <br/> °IterativeFeatureSelection: RFE"
   ]
  },
  {
   "cell_type": "code",
   "execution_count": null,
   "metadata": {},
   "outputs": [],
   "source": [
    "# linear regression -- misschien gebruik maken van de fit_params attribute?\n",
    "# We zullen eerst de scaler en feature selection uitvoeren om zo de features te weten\n",
    "# dan pipeline om uitkomst te weten als die uitkomst beter is dan geven we die features mee voor de finale uitkomst"
   ]
  },
  {
   "cell_type": "code",
   "execution_count": 10,
   "metadata": {},
   "outputs": [],
   "source": [
    "selectors = [SelectPercentile(), SelectFromModel(RandomForestRegressor(random_state=1234)), \n",
    "             RFE(RandomForestRegressor(random_state=1234))]\n",
    "selectors_name = [\"PercentileSelector\", \"RFE_RF_score\", \"RFE_RF_Score\"]"
   ]
  },
  {
   "cell_type": "code",
   "execution_count": 16,
   "metadata": {},
   "outputs": [],
   "source": [
    "import warnings\n",
    "warnings.filterwarnings('ignore')"
   ]
  },
  {
   "cell_type": "code",
   "execution_count": 17,
   "metadata": {},
   "outputs": [
    {
     "data": {
      "text/html": [
       "<div>\n",
       "<style scoped>\n",
       "    .dataframe tbody tr th:only-of-type {\n",
       "        vertical-align: middle;\n",
       "    }\n",
       "\n",
       "    .dataframe tbody tr th {\n",
       "        vertical-align: top;\n",
       "    }\n",
       "\n",
       "    .dataframe thead th {\n",
       "        text-align: right;\n",
       "    }\n",
       "</style>\n",
       "<table border=\"1\" class=\"dataframe\">\n",
       "  <thead>\n",
       "    <tr style=\"text-align: right;\">\n",
       "      <th></th>\n",
       "      <th>Model</th>\n",
       "      <th>score</th>\n",
       "      <th>Scaler</th>\n",
       "      <th>Selector</th>\n",
       "      <th>features</th>\n",
       "      <th>params</th>\n",
       "    </tr>\n",
       "  </thead>\n",
       "  <tbody>\n",
       "    <tr>\n",
       "      <th>0</th>\n",
       "      <td>LR</td>\n",
       "      <td>6.136214</td>\n",
       "      <td>power</td>\n",
       "      <td>RFE_RF_score</td>\n",
       "      <td>[Age, Weight, bmi, Population, avgTimeScore, b...</td>\n",
       "      <td></td>\n",
       "    </tr>\n",
       "    <tr>\n",
       "      <th>1</th>\n",
       "      <td>KNN</td>\n",
       "      <td>6.163878</td>\n",
       "      <td>robust</td>\n",
       "      <td>RFE_RF_Score</td>\n",
       "      <td>[Age, Weight, bmi, Population, GDP, avgTime, b...</td>\n",
       "      <td>{'knn__n_neighbors': 30}</td>\n",
       "    </tr>\n",
       "    <tr>\n",
       "      <th>2</th>\n",
       "      <td>RF</td>\n",
       "      <td>6.353966</td>\n",
       "      <td>robust</td>\n",
       "      <td>RFE_RF_Score</td>\n",
       "      <td>[Age, Weight, bmi, Population, GDP, avgTime, b...</td>\n",
       "      <td>{'rf__n_estimators': 200}</td>\n",
       "    </tr>\n",
       "  </tbody>\n",
       "</table>\n",
       "</div>"
      ],
      "text/plain": [
       "  Model     score  Scaler      Selector  \\\n",
       "0    LR  6.136214   power  RFE_RF_score   \n",
       "1   KNN  6.163878  robust  RFE_RF_Score   \n",
       "2    RF  6.353966  robust  RFE_RF_Score   \n",
       "\n",
       "                                            features  \\\n",
       "0  [Age, Weight, bmi, Population, avgTimeScore, b...   \n",
       "1  [Age, Weight, bmi, Population, GDP, avgTime, b...   \n",
       "2  [Age, Weight, bmi, Population, GDP, avgTime, b...   \n",
       "\n",
       "                      params  \n",
       "0                             \n",
       "1   {'knn__n_neighbors': 30}  \n",
       "2  {'rf__n_estimators': 200}  "
      ]
     },
     "execution_count": 17,
     "metadata": {},
     "output_type": "execute_result"
    }
   ],
   "source": [
    "best_scores = []\n",
    "best_scalers = []\n",
    "best_parameters = []\n",
    "selector_algorit = []\n",
    "selected_features = []\n",
    "grid_selector = 0\n",
    "\n",
    "for model, model_name in zip(models, model_names):\n",
    "    best_score = 1000000000000\n",
    "    for selector, selector_name in zip(selectors, selectors_name):\n",
    "        for scaler, scaler_name in zip(scalers, scaler_names):\n",
    "            # obtain estimate of the selected columns\n",
    "            sc = selector.fit_transform(scaler.fit_transform(MeX_NF),  Mey_F.loc[:,\"TimeMins\"])\n",
    "            sf = list(MeX_NF.columns[selector.get_support()])\n",
    "            \n",
    "            if grid_selector == 0:\n",
    "                pipe = make_pipeline(scaler, selector, model)\n",
    "                output = MSE_summarizer(cross_val_score(pipe, MeX_NF, Mey_F.loc[:,\"TimeMins\"], cv=kf,\n",
    "                                                        scoring= \"neg_mean_squared_error\"))\n",
    "                if output < best_score:\n",
    "                    best_score = output\n",
    "                    best_scaler = scaler_name\n",
    "                    selector_alg = selector_name\n",
    "                    selected_f = sf\n",
    "                    best_param = \"\"\n",
    "                    \n",
    "\n",
    "            else:\n",
    "                pipe = Pipeline([(scaler_name,scaler),(selector_name, selector),(model_name, model)])\n",
    "                grid = GridSearchCV(pipe, param_grid=param_grids[grid_selector],  cv=kf, \n",
    "                                    scoring= \"neg_mean_squared_error\")\n",
    "                grid.fit(MeX_NF, Mey_F.loc[:,\"TimeMins\"])\n",
    "                output = math.sqrt(abs(grid.best_score_ ))\n",
    "                if output < best_score:\n",
    "                    best_score = output\n",
    "                    best_scaler = scaler_name\n",
    "                    selector_alg = selector_name\n",
    "                    selected_f = sf\n",
    "                    best_param = grid.best_params_\n",
    "    \n",
    "    best_scores.append(best_score)\n",
    "    best_scalers.append(best_scaler)\n",
    "    best_parameters.append(best_param)\n",
    "    selected_features.append(selected_f)\n",
    "    selector_algorit.append(selector_alg)\n",
    "    \n",
    "    grid_selector += 1\n",
    "    \n",
    "results = pd.DataFrame({\"Model\":[\"LR\", \"KNN\", \"RF\"], \"score\": best_scores, \"Scaler\": best_scalers, \n",
    "                        \"Selector\": selector_algorit, \"features\":selected_features, \"params\": best_parameters})\n",
    "results  "
   ]
  },
  {
   "cell_type": "code",
   "execution_count": 19,
   "metadata": {},
   "outputs": [
    {
     "data": {
      "text/html": [
       "<div>\n",
       "<style scoped>\n",
       "    .dataframe tbody tr th:only-of-type {\n",
       "        vertical-align: middle;\n",
       "    }\n",
       "\n",
       "    .dataframe tbody tr th {\n",
       "        vertical-align: top;\n",
       "    }\n",
       "\n",
       "    .dataframe thead th {\n",
       "        text-align: right;\n",
       "    }\n",
       "</style>\n",
       "<table border=\"1\" class=\"dataframe\">\n",
       "  <thead>\n",
       "    <tr style=\"text-align: right;\">\n",
       "      <th></th>\n",
       "      <th>Model</th>\n",
       "      <th>score</th>\n",
       "      <th>Scaler</th>\n",
       "      <th>Selector</th>\n",
       "      <th>features</th>\n",
       "      <th>params</th>\n",
       "    </tr>\n",
       "  </thead>\n",
       "  <tbody>\n",
       "    <tr>\n",
       "      <th>0</th>\n",
       "      <td>LR</td>\n",
       "      <td>6.136214</td>\n",
       "      <td>power</td>\n",
       "      <td>RFE_RF_score</td>\n",
       "      <td>[Age, Weight, bmi, Population, avgTimeScore, bestTimeScore, avgPerformanceScore]</td>\n",
       "      <td></td>\n",
       "    </tr>\n",
       "    <tr>\n",
       "      <th>1</th>\n",
       "      <td>KNN</td>\n",
       "      <td>6.163878</td>\n",
       "      <td>robust</td>\n",
       "      <td>RFE_RF_Score</td>\n",
       "      <td>[Age, Weight, bmi, Population, GDP, avgTime, bestTime, avgTimeScore, bestTimeScore, avgPerformanceScore, bestPerformanceScore, monthsBestTime]</td>\n",
       "      <td>{'knn__n_neighbors': 30}</td>\n",
       "    </tr>\n",
       "    <tr>\n",
       "      <th>2</th>\n",
       "      <td>RF</td>\n",
       "      <td>6.353966</td>\n",
       "      <td>robust</td>\n",
       "      <td>RFE_RF_Score</td>\n",
       "      <td>[Age, Weight, bmi, Population, GDP, avgTime, bestTime, avgTimeScore, bestTimeScore, avgPerformanceScore, bestPerformanceScore, monthsBestTime]</td>\n",
       "      <td>{'rf__n_estimators': 200}</td>\n",
       "    </tr>\n",
       "  </tbody>\n",
       "</table>\n",
       "</div>"
      ],
      "text/plain": [
       "  Model     score  Scaler      Selector  \\\n",
       "0  LR    6.136214  power   RFE_RF_score   \n",
       "1  KNN   6.163878  robust  RFE_RF_Score   \n",
       "2  RF    6.353966  robust  RFE_RF_Score   \n",
       "\n",
       "                                                                                                                                         features  \\\n",
       "0  [Age, Weight, bmi, Population, avgTimeScore, bestTimeScore, avgPerformanceScore]                                                                 \n",
       "1  [Age, Weight, bmi, Population, GDP, avgTime, bestTime, avgTimeScore, bestTimeScore, avgPerformanceScore, bestPerformanceScore, monthsBestTime]   \n",
       "2  [Age, Weight, bmi, Population, GDP, avgTime, bestTime, avgTimeScore, bestTimeScore, avgPerformanceScore, bestPerformanceScore, monthsBestTime]   \n",
       "\n",
       "                      params  \n",
       "0                             \n",
       "1  {'knn__n_neighbors': 30}   \n",
       "2  {'rf__n_estimators': 200}  "
      ]
     },
     "execution_count": 19,
     "metadata": {},
     "output_type": "execute_result"
    }
   ],
   "source": [
    "pd.set_option('display.max_colwidth', -1)\n",
    "results"
   ]
  }
 ],
 "metadata": {
  "kernelspec": {
   "display_name": "Python 3",
   "language": "python",
   "name": "python3"
  },
  "language_info": {
   "codemirror_mode": {
    "name": "ipython",
    "version": 3
   },
   "file_extension": ".py",
   "mimetype": "text/x-python",
   "name": "python",
   "nbconvert_exporter": "python",
   "pygments_lexer": "ipython3",
   "version": "3.7.3"
  }
 },
 "nbformat": 4,
 "nbformat_minor": 2
}
