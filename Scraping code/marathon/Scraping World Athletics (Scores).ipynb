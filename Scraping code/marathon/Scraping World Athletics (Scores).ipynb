{
 "cells": [
  {
   "cell_type": "markdown",
   "metadata": {},
   "source": [
    "### World Athletics"
   ]
  },
  {
   "cell_type": "code",
   "execution_count": 1,
   "metadata": {},
   "outputs": [],
   "source": [
    "from bs4 import BeautifulSoup\n",
    "import pandas as pd\n",
    "import requests \n",
    "\n",
    "import re \n",
    "  \n",
    "# Function to replace multiple occurrences   \n",
    "# of a character by a single character \n",
    "def replace(string, char): \n",
    "    pattern = char + '{2,}'\n",
    "    string = re.sub(pattern, char, string) \n",
    "    return string "
   ]
  },
  {
   "cell_type": "code",
   "execution_count": 2,
   "metadata": {},
   "outputs": [],
   "source": [
    "# List containing the different urls\n",
    "url = \"https://www.worldathletics.org/world-rankings/marathon/men?page=\"\n",
    "url_list = []\n",
    "for i in range(1,20):\n",
    "    url_list.append(url+str(i))"
   ]
  },
  {
   "cell_type": "code",
   "execution_count": 3,
   "metadata": {},
   "outputs": [],
   "source": [
    "# Create the empty dataFrame\n",
    "dfObj = pd.DataFrame(columns=[\"Name\", \"Score\"])\n",
    "\n",
    "for url in url_list:\n",
    "    # make GET request to url and obtain the HTML structure\n",
    "    site = requests.get(url)\n",
    "    \n",
    "    # make the beautifulSoup tree of the HTML page\n",
    "    soup = BeautifulSoup(site.content, \"html.parser\")\n",
    "    \n",
    "    # find the part of the HTML structure containing the particular data \n",
    "    table_list = soup.find(\"table\", class_=\"records-table\")\n",
    "    \n",
    "    # subset only the necessary parts\n",
    "    athlete_string = table_list.contents[3].text\n",
    "    \n",
    "    # obtain a list we can work with\n",
    "    temp_list = replace(athlete_string, \"\\n\")[1:-1].rstrip().split(\"\\n\")\n",
    "    \n",
    "    # strip each element of the list\n",
    "    for index, value in enumerate(temp_list):\n",
    "        temp_list[index] = value.strip()\n",
    "    \n",
    "    cleaned_list = list(filter(None, temp_list))\n",
    "    for index, value in enumerate(cleaned_list):\n",
    "        if value == \"Marathon [Half Marathon]\":\n",
    "            cleaned_list[index] = \"Marathon\"\n",
    "    \n",
    "    # obtain a list containing the indices such that we can subset each athlete\n",
    "    indices = []\n",
    "    for index, value in enumerate(cleaned_list):\n",
    "        if value == \"Marathon\":\n",
    "            indices.append(index)\n",
    "    \n",
    "    # outer list contains innerlist whereby each list contains the athlete\n",
    "    outer = []\n",
    "    start = 0\n",
    "    for index in indices:\n",
    "        outer.append(cleaned_list[start:index + 1])\n",
    "        start = index + 1\n",
    "    \n",
    "    # incase athlete doesn't contain a dayOfBirth add this such that we can easily subset the informative data\n",
    "    for athlete in outer:\n",
    "        if len(athlete) < 6:\n",
    "            athlete.insert(2, \"\")\n",
    "    \n",
    "    # add all the data to the dataframe\n",
    "    for athlete in outer:\n",
    "        dfObj = dfObj.append(\n",
    "            {'Name': athlete[1].title(), 'Score': athlete[4]}, ignore_index=True)"
   ]
  },
  {
   "cell_type": "code",
   "execution_count": 4,
   "metadata": {},
   "outputs": [],
   "source": [
    "# write the pandas dataframe to csv file with correct name \n",
    "dfObj.to_csv(r'C:\\Users\\BrechtDewilde\\Documents\\UGENT -  statistical data analysis\\STATISTICAL DATA ANALYSIS\\thesis\\R analysis\\Data\\scraped\\scores.csv' , index = False)"
   ]
  }
 ],
 "metadata": {
  "kernelspec": {
   "display_name": "Python 3",
   "language": "python",
   "name": "python3"
  },
  "language_info": {
   "codemirror_mode": {
    "name": "ipython",
    "version": 3
   },
   "file_extension": ".py",
   "mimetype": "text/x-python",
   "name": "python",
   "nbconvert_exporter": "python",
   "pygments_lexer": "ipython3",
   "version": "3.7.3"
  }
 },
 "nbformat": 4,
 "nbformat_minor": 2
}
