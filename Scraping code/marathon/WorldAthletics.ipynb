{
 "cells": [
  {
   "cell_type": "markdown",
   "metadata": {},
   "source": [
    "**Library import**"
   ]
  },
  {
   "cell_type": "code",
   "execution_count": 152,
   "metadata": {},
   "outputs": [],
   "source": [
    "from bs4 import BeautifulSoup\n",
    "import requests\n",
    "import pandas as pd\n",
    "import re"
   ]
  },
  {
   "cell_type": "markdown",
   "metadata": {},
   "source": [
    "**Code** <br/> STEP 1 - obtain a dataframe with athlete and link to its personal website "
   ]
  },
  {
   "cell_type": "code",
   "execution_count": 278,
   "metadata": {},
   "outputs": [],
   "source": [
    "# list containing the links to all pages with athlete information\n",
    "pages = [\"https://www.worldathletics.org/world-rankings/marathon/men?page=\" + str(i) for i in range(1,19)]\n",
    "\n",
    "# List with all the names of the athletes\n",
    "athlete_names = []\n",
    "\n",
    "# List with all the personal sites of a particular athlete\n",
    "athlete_sites = []\n",
    "\n",
    "\n",
    "# scrape all athletes and their link to their personal webpage\n",
    "for page_link in pages:\n",
    "    site = requests.get(page_link).content\n",
    "    soup = BeautifulSoup(site, \"html.parser\")\n",
    "    # contains all the records of the table at one specific page\n",
    "    records_table = soup.find(\"table\")\n",
    "\n",
    "    # create list with all names of the athlets in the table\n",
    "    for i in soup.find_all(\"td\", {\"data-th\":\"Competitor\"}):\n",
    "        athlete_names.append(i.text.strip())\n",
    "\n",
    "    # create list with all the sites of the specific athletes\n",
    "    data_records = [child for child in records_table.children if str(type(child)) == \"<class 'bs4.element.Tag'>\"]  \n",
    "    datas = [i for i in data_records[1].children if str(type(i)) == \"<class 'bs4.element.Tag'>\"]\n",
    "    athlete_sites.extend([\"https://www.worldathletics.org/\" + i.attrs['data-athlete-url'] for i in datas])"
   ]
  },
  {
   "cell_type": "code",
   "execution_count": 283,
   "metadata": {},
   "outputs": [
    {
     "data": {
      "text/html": [
       "<div>\n",
       "<style scoped>\n",
       "    .dataframe tbody tr th:only-of-type {\n",
       "        vertical-align: middle;\n",
       "    }\n",
       "\n",
       "    .dataframe tbody tr th {\n",
       "        vertical-align: top;\n",
       "    }\n",
       "\n",
       "    .dataframe thead th {\n",
       "        text-align: right;\n",
       "    }\n",
       "</style>\n",
       "<table border=\"1\" class=\"dataframe\">\n",
       "  <thead>\n",
       "    <tr style=\"text-align: right;\">\n",
       "      <th></th>\n",
       "      <th>athlete</th>\n",
       "      <th>site</th>\n",
       "    </tr>\n",
       "  </thead>\n",
       "  <tbody>\n",
       "    <tr>\n",
       "      <th>0</th>\n",
       "      <td>Birhanu LEGESE</td>\n",
       "      <td>https://www.worldathletics.org//athletes/ethio...</td>\n",
       "    </tr>\n",
       "    <tr>\n",
       "      <th>1</th>\n",
       "      <td>Lelisa DESISA</td>\n",
       "      <td>https://www.worldathletics.org//athletes/ethio...</td>\n",
       "    </tr>\n",
       "    <tr>\n",
       "      <th>2</th>\n",
       "      <td>Lawrence CHERONO</td>\n",
       "      <td>https://www.worldathletics.org//athletes/kenya...</td>\n",
       "    </tr>\n",
       "    <tr>\n",
       "      <th>3</th>\n",
       "      <td>Mosinet GEREMEW</td>\n",
       "      <td>https://www.worldathletics.org//athletes/ethio...</td>\n",
       "    </tr>\n",
       "    <tr>\n",
       "      <th>4</th>\n",
       "      <td>Vincent KIPCHUMBA</td>\n",
       "      <td>https://www.worldathletics.org//athletes/kenya...</td>\n",
       "    </tr>\n",
       "  </tbody>\n",
       "</table>\n",
       "</div>"
      ],
      "text/plain": [
       "             athlete                                               site\n",
       "0     Birhanu LEGESE  https://www.worldathletics.org//athletes/ethio...\n",
       "1      Lelisa DESISA  https://www.worldathletics.org//athletes/ethio...\n",
       "2   Lawrence CHERONO  https://www.worldathletics.org//athletes/kenya...\n",
       "3    Mosinet GEREMEW  https://www.worldathletics.org//athletes/ethio...\n",
       "4  Vincent KIPCHUMBA  https://www.worldathletics.org//athletes/kenya..."
      ]
     },
     "execution_count": 283,
     "metadata": {},
     "output_type": "execute_result"
    }
   ],
   "source": [
    "# creation of the particular dataframe\n",
    "df_athlete_site = pd.DataFrame({\"athlete\": athlete_names, \"site\": athlete_sites})\n",
    "df_athlete_site.head()"
   ]
  },
  {
   "cell_type": "markdown",
   "metadata": {},
   "source": [
    "STEP 2 - Scrape from each personal site the marathon history of each athlete"
   ]
  },
  {
   "cell_type": "code",
   "execution_count": 456,
   "metadata": {},
   "outputs": [
    {
     "data": {
      "text/plain": [
       "['Kaan Kigen ÖZBILEN',\n",
       " 'Mo FARAH',\n",
       " 'Suguru OSAKO',\n",
       " 'Dejene DEBELA',\n",
       " 'Leul GEBRESILASE']"
      ]
     },
     "execution_count": 456,
     "metadata": {},
     "output_type": "execute_result"
    }
   ],
   "source": [
    "exceptions[:5]"
   ]
  },
  {
   "cell_type": "code",
   "execution_count": 530,
   "metadata": {},
   "outputs": [],
   "source": [
    "# columns for the dataframe\n",
    "col0 = []\n",
    "col1 = []\n",
    "col2 = []\n",
    "col3 = []\n",
    "\n",
    "# iterate through each athelete and the personal site of each athlete\n",
    "for name, link in zip(athlete_names, athlete_sites):\n",
    "    \n",
    "    # obtain parse tree from the site\n",
    "    site = requests.get(link).content\n",
    "    soup = BeautifulSoup(site, \"html.parser\")\n",
    "    \n",
    "    # same athletes doesn't have a progression tab these are not usefull\n",
    "    if \"progression\" in \"\".join([str(tag) for tag in soup.find_all()]):\n",
    "        \n",
    "        # navigate to the marathon results\n",
    "        if name in exceptions:\n",
    "            marathon_results = soup.find_all(id=\"progression\")[0].find_all(\"table\")[-2].find_all(\"tr\")\n",
    "        else:\n",
    "            marathon_results = soup.find_all(id=\"progression\")[0].find_all(\"table\")[-1].find_all(\"tr\")\n",
    "        \n",
    "        # obtain all marathon results in one string variable\n",
    "        volledige_str = \"\"\n",
    "        for i in marathon_results:\n",
    "            volledige_str += i.text\n",
    "\n",
    "        \n",
    "        # obtain string with all the usefull information\n",
    "        volledige_str = \"\".join(volledige_str.split(\"\\n\\n\\n\")).split(\"\\n\\n\")\n",
    "        volledige_str = \"\".join(volledige_str).split(\"\\n\")\n",
    "        volledige_str = [i.strip() for i in volledige_str]\n",
    "        del volledige_str[4-1::4]\n",
    "        \n",
    "        # list with all information\n",
    "        performances = [i for i in volledige_str if len(i) > 0]\n",
    "        \n",
    "        # fill column values\n",
    "        sum = 0\n",
    "        for i in range(3, len(performances),3):\n",
    "            col1.append(performances[i])\n",
    "            col2.append(performances[i+1])\n",
    "            col3.append(performances[i+2])\n",
    "            sum += 1\n",
    "        # fill name list with number of observation for the athlete\n",
    "        col0.extend([name for i in range(sum)])"
   ]
  },
  {
   "cell_type": "code",
   "execution_count": 532,
   "metadata": {},
   "outputs": [],
   "source": [
    "df = pd.DataFrame({\"Name\": col0 , \"Performance\": col1, \"Place\": col2, \"Date\": col3})\n",
    "df.to_csv(r\"C:\\Users\\BrechtDewilde\\Documents\\Github\\Predicting-the-olympic-games\\IDA code\\Marathon\\Data\\scraped\\world_athletics\\world_athletics.csv\", index = False)"
   ]
  }
 ],
 "metadata": {
  "kernelspec": {
   "display_name": "Python 3",
   "language": "python",
   "name": "python3"
  },
  "language_info": {
   "codemirror_mode": {
    "name": "ipython",
    "version": 3
   },
   "file_extension": ".py",
   "mimetype": "text/x-python",
   "name": "python",
   "nbconvert_exporter": "python",
   "pygments_lexer": "ipython3",
   "version": "3.7.3"
  }
 },
 "nbformat": 4,
 "nbformat_minor": 2
}
